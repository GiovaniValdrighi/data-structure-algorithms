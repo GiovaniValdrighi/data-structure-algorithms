{
 "cells": [
  {
   "cell_type": "markdown",
   "id": "2d2d77f6",
   "metadata": {},
   "source": [
    "# Lista de exercícios 2\n",
    "\n",
    "## Questão 1"
   ]
  },
  {
   "cell_type": "code",
   "execution_count": 1,
   "id": "ecaeaae2",
   "metadata": {},
   "outputs": [],
   "source": [
    "import json\n",
    "import numpy as np\n",
    "from math import sin, cos, sqrt, atan2, radians"
   ]
  },
  {
   "cell_type": "code",
   "execution_count": 2,
   "id": "77264dc2",
   "metadata": {},
   "outputs": [],
   "source": [
    "def distance_between_coords(coord1, coord2):\n",
    "    \"\"\"\n",
    "    Function found in \n",
    "    https://stackoverflow.com/questions/19412462/getting-distance-between-two-points-based-on-latitude-longitude/43211266#43211266\n",
    "    \"\"\"\n",
    "    R = 6373.0\n",
    "    lat1 = radians(coord1[1])\n",
    "    lon1 = radians(coord1[0])\n",
    "    lat2 = radians(coord2[1])\n",
    "    lon2 = radians(coord2[0])\n",
    "\n",
    "    dlon = lon2 - lon1\n",
    "    dlat = lat2 - lat1\n",
    "\n",
    "    a = sin(dlat / 2)**2 + cos(lat1) * cos(lat2) * sin(dlon / 2)**2\n",
    "    c = 2 * atan2(sqrt(a), sqrt(1 - a))\n",
    "    \n",
    "    return R * c"
   ]
  },
  {
   "cell_type": "code",
   "execution_count": 3,
   "id": "59359968",
   "metadata": {},
   "outputs": [],
   "source": [
    "with open ('coordinates.txt', 'r', encoding = 'UTF-8') as f:\n",
    "    info = f.readlines()\n",
    "lines = [txt.replace('\\n', '') for txt in info if txt != '\\n']\n",
    "i = 0\n",
    "coordinates = {}\n",
    "while i < len(lines):\n",
    "    key = lines[i].split('-')[0].strip()\n",
    "    first_coord = lines[i+1].find('º')\n",
    "    second_coord = lines[i+1].find('\\'')\n",
    "    third_coord = lines[i+1].find('\"')\n",
    "    lat = -1 * (int(lines[i+1][:first_coord]) + \n",
    "                int(lines[i+1][first_coord+1:second_coord])/60 + \n",
    "                int(lines[i+1][second_coord+1:third_coord])/3600)\n",
    "    \n",
    "    first_coord = lines[i+2].find('º')\n",
    "    second_coord = lines[i+2].find('\\'')\n",
    "    third_coord = lines[i+2].find('\"')\n",
    "    \n",
    "    lon = -1 * (int(lines[i+2][:first_coord]) + \n",
    "                int(lines[i+2][first_coord+1:second_coord])/60 + \n",
    "                int(lines[i+2][second_coord+1:third_coord])/3600)\n",
    "    coordinates[key] = [lon, lat]\n",
    "    i += 3\n",
    "\n",
    "cities = list(coordinates.keys())\n",
    "cities.remove('Macapá')\n",
    "cities.remove('Palmas')\n",
    "cities = cities[0:20]\n",
    "cities_dict = dict([(cities[i], i) for i in range(len(cities))])"
   ]
  },
  {
   "cell_type": "code",
   "execution_count": 4,
   "id": "b4635176",
   "metadata": {},
   "outputs": [],
   "source": [
    "dists_euclid = np.zeros((len(cities), len(cities)))\n",
    "for i in range(20):\n",
    "    for j in range(20):\n",
    "        dists_euclid[i, j] = distance_between_coords(coordinates[cities[i]], coordinates[cities[j]])"
   ]
  },
  {
   "cell_type": "code",
   "execution_count": 5,
   "id": "0286c405",
   "metadata": {},
   "outputs": [],
   "source": [
    "dists_road = np.zeros((len(cities), len(cities)))\n",
    "with open(\"distancias.json\", 'r', encoding='utf-8') as f:\n",
    "    temp = json.load(f)\n",
    "for i in range(20):\n",
    "    for j in range(20):\n",
    "        city1 = cities[i]\n",
    "        city2 = cities[j]\n",
    "        if city1+\":\"+city2 in temp.keys():\n",
    "            dist = temp[city1+\":\"+city2]\n",
    "        else:\n",
    "            dist = temp[city2+\":\"+city1]\n",
    "        dists_road[i, j] = dist"
   ]
  },
  {
   "cell_type": "code",
   "execution_count": 36,
   "id": "45c695d7",
   "metadata": {},
   "outputs": [],
   "source": [
    "class Node():\n",
    "    \"\"\"A node class for A* Pathfinding\"\"\"\n",
    "\n",
    "    def __init__(self, name = None, parent=None):\n",
    "        self.parent = parent\n",
    "        self.name = name\n",
    "        self.g = 0\n",
    "        self.h = 0\n",
    "        self.f = 0\n",
    "    \n",
    "    def __eq__(self, other):\n",
    "        return self.name == other.name\n",
    "\n",
    "    \n",
    "class A_star():\n",
    "    def __init__(self, graph_dist, heuristic_dist, names):\n",
    "        self.graph_dist = graph_dist\n",
    "        self.heuristic_dist = heuristic_dist\n",
    "        self.names = names\n",
    "        self.names_dict = dict([(names[i], i) for i in range(len(names))])\n",
    "        \n",
    "    def run(self, start, end):\n",
    "        print(\"A* algorithm - road between cities\")\n",
    "        print(f\"start = {start}, end = {end}\")\n",
    "        \n",
    "        openList = []\n",
    "        closedList = []\n",
    "        \n",
    "        startNode = Node(start, None)\n",
    "        startNode.g, startNode.h, startNode.f = 0, 0, 0\n",
    "        \n",
    "        openList.append(startNode)\n",
    "        while len(openList) > 0:\n",
    "            \n",
    "            nodeBest = openList[0]\n",
    "            valueBest = nodeBest.f\n",
    "            for node in openList:\n",
    "                if node.f < nodeBest.f:\n",
    "                    nodeBest = node\n",
    "            \n",
    "            print(f\"Current best = {nodeBest.name}, f = {nodeBest.f}\")\n",
    "            \n",
    "            openList.remove(nodeBest)\n",
    "            closedList.append(nodeBest)\n",
    "            \n",
    "            if nodeBest.name == end:\n",
    "                print(f\"Reached {end}\")\n",
    "                print(\"Path (in reverse order):\")\n",
    "                nodeP = nodeBest\n",
    "                while nodeP.name != startNode.name:\n",
    "                    print(nodeP.name)\n",
    "                    nodeP = nodeP.parent\n",
    "                print(startNode.name)\n",
    "                return \n",
    "            \n",
    "            newPath = [Node(destination, nodeBest) for destination in self.names]\n",
    "            for path in newPath:\n",
    "                \n",
    "                if path in closedList:\n",
    "                    continue\n",
    "                        \n",
    "                path.g = nodeBest.g + self.graph_dist[self.names_dict[path.name],\n",
    "                                                     self.names_dict[nodeBest.name]]\n",
    "                \n",
    "                path.h = self.heuristic_dist[self.names_dict[path.name],\n",
    "                                            self.names_dict[end]]\n",
    "                \n",
    "                path.f = path.g + path.h\n",
    "                \n",
    "                for openPath in openList:\n",
    "                    if path == openPath and path.g > openPath.g:\n",
    "                        continue\n",
    "                        \n",
    "                openList.append(path)"
   ]
  },
  {
   "cell_type": "code",
   "execution_count": 37,
   "id": "4a6500ac",
   "metadata": {},
   "outputs": [
    {
     "name": "stdout",
     "output_type": "stream",
     "text": [
      "A* algorithm - road between cities\n",
      "start = Aracajú, end = Curitiba\n",
      "Current best = Aracajú, f = 0\n",
      "Current best = Belo Horizonte, f = 2399.3743703521613\n",
      "Current best = Rio de Janeiro, f = 2531.477348201061\n",
      "Current best = Maceió, f = 2556.1274519645985\n",
      "Current best = Curitiba, f = 2582.0\n",
      "Reached Curitiba\n",
      "Path (in reverse order):\n",
      "Curitiba\n",
      "Belo Horizonte\n",
      "Aracajú\n"
     ]
    }
   ],
   "source": [
    "A = A_star(dists_road, dists_euclid, cities)\n",
    "A.run('Aracajú', 'Curitiba')"
   ]
  }
 ],
 "metadata": {
  "kernelspec": {
   "display_name": "Python 3",
   "language": "python",
   "name": "python3"
  },
  "language_info": {
   "codemirror_mode": {
    "name": "ipython",
    "version": 3
   },
   "file_extension": ".py",
   "mimetype": "text/x-python",
   "name": "python",
   "nbconvert_exporter": "python",
   "pygments_lexer": "ipython3",
   "version": "3.8.8"
  }
 },
 "nbformat": 4,
 "nbformat_minor": 5
}
