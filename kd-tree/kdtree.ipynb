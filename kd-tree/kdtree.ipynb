{
  "nbformat": 4,
  "nbformat_minor": 0,
  "metadata": {
    "colab": {
      "name": "kdtree.ipynb",
      "provenance": [],
      "collapsed_sections": [],
      "toc_visible": true
    },
    "kernelspec": {
      "name": "python3",
      "display_name": "Python 3"
    },
    "language_info": {
      "name": "python"
    }
  },
  "cells": [
    {
      "cell_type": "markdown",
      "metadata": {
        "id": "3DhxcU8Zy3Y8"
      },
      "source": [
        "# Projeto - Árvore KD\n",
        "__Estrutura de Dados e Algoritmos - EMAp__\n",
        "\n",
        "__Giovani de Almeida Valdrghi__\n",
        "\n",
        "__Professor: Jean Roberto Ponciano__"
      ]
    },
    {
      "cell_type": "markdown",
      "metadata": {
        "id": "lXt2V6tWuIRz"
      },
      "source": [
        "\n",
        "\n",
        "## 1.Descrição\n",
        "\n",
        "__Problema__: Seu cliente quer adquirir uma fazenda produtora de morangos e quer ter o melhor retorno possível. Seu serviço é oferecer um meio de informá-lo sobre as fazendas à venda que se encaixam nas características que ele deseja para que ele tome a melhor decisão. Fatores como produção mensal de morangos (500kg a 900kg/mês), área da propriedade (40 a 100 hectares) e valor de venda (1 milhão a 5 milhões de reais) são cruciais para a escolha dele. O que\n",
        "ele quer é que você recomende algumas opções que melhor atendam aos valores informados por ele para essas três características. Com base nas opções elencadas, ele comprará a fazenda mais barata dentre as duas mais próximas ao local onde ele mora.\n",
        "\n",
        "1. O cliente informará  uma fazenda \"ideal\" e a quantidade de opções que interessa a ele ($6 \\leq x \\leq 10$).\n",
        "2. Exibiremos em ordem da mais semelhante até a menos semelhante. \n",
        "3. Informar quais as duas, dentre as $x$ fazendas que podem atendê-lo,\n",
        "são mais próximas o local de moradia dele.\n",
        "\n",
        "\n",
        "Para resolver o problema usaremos duas árvores KD diferentes, uma árvore inicialmente considerando as três primeiras características de uma fazenda (produção de morango, área, preço) para pesquisar as $x$ as mais próximas da fazenda \"ideal\", e em seguida contruíremos uma segunda árvore com essa $x$ fazendas porém utilizando os valores de longitude e latitude.\n",
        "\n",
        "Para calcular a distância será utilizado a distância euclidiana, no entanto, na primeira árvore pela mudança de escala entre as características, iremos inicialmente normalizar as características para adicionar à arvore.\n",
        "\n",
        "\n"
      ]
    },
    {
      "cell_type": "code",
      "metadata": {
        "id": "wNFd_sk6pG2I"
      },
      "source": [
        "#install graphviz\n",
        "!apt install -y graphviz\n",
        "!pip install graphviz"
      ],
      "execution_count": null,
      "outputs": []
    },
    {
      "cell_type": "code",
      "metadata": {
        "id": "Jf3az-VltrOk"
      },
      "source": [
        "import numpy as np\n",
        "import heapq\n",
        "import matplotlib.pyplot as plt\n",
        "plt.style.use('ggplot')\n",
        "import json\n",
        "from graphviz import Digraph\n",
        "import pandas as pd"
      ],
      "execution_count": 2,
      "outputs": []
    },
    {
      "cell_type": "markdown",
      "metadata": {
        "id": "AEoSnucYrsKo"
      },
      "source": [
        "## 2.Implementação\n",
        "\n",
        "Serão três estruturas utilizadas para resolver o problema: KD tree, node e bounded priority queue.\n",
        "\n"
      ]
    },
    {
      "cell_type": "markdown",
      "metadata": {
        "id": "YCSruGBOzBDU"
      },
      "source": [
        "### 2.1Bounded Priority Queue\n",
        "\n",
        "A bounded priority queue será utilizada na pesquisa dos $x$ vizinhos mais próximos. A estrutura _heapq_ do Python será modificada para que ela aceite um total de $x$ elementos, removendo aquelas com menor prioridade. A prioridade será a distância euclidiana com a fazenda pesquisada, a prioridade no entanto é aquela elemento com o menor valor, por isso adicionaremos o negativo da distância na estrutura."
      ]
    },
    {
      "cell_type": "code",
      "metadata": {
        "id": "FpJDDKeE9E8r"
      },
      "source": [
        "class BoundedQueue:\n",
        "    \"\"\"\n",
        "    Bounded priority queue with max length equals to [self.max_size].\n",
        "    The elements are inside the list self.items.\n",
        "    self.items[0] contain the element with lowest dist.\n",
        "    \"\"\"\n",
        "    def __init__(self, max_size):\n",
        "        self.items = []\n",
        "        self.size = 0\n",
        "        self.max_size = max_size\n",
        "    \n",
        "    def add(self, node, dist):\n",
        "        \"\"\"Add a new element of the list (if there is size).\"\"\"\n",
        "        heapq.heappush(self.items, (dist, node))\n",
        "        self.size += 1\n",
        "        \n",
        "        if self.size > self.max_size:\n",
        "            heapq.heappop(self.items)\n",
        "            self.size -=1\n",
        "\n",
        "    def is_full(self):\n",
        "        \"\"\"Check if queue is full.\"\"\"\n",
        "        return self.size == self.max_size\n",
        "\n",
        "    def max_priority(self):\n",
        "        \"\"\"Return the priority of the element with max priority.\"\"\"\n",
        "        return self.items[0][0]"
      ],
      "execution_count": 3,
      "outputs": []
    },
    {
      "cell_type": "markdown",
      "metadata": {
        "id": "JwB4q3PzsWfj"
      },
      "source": [
        "### 2.2 Node\n",
        "\n",
        "O Node será o nó que irá compor a árvore, ele irá armazenar um numpy array que representa o ponto, o valor inteiro $k$ que é a dimensão em que ele será analisado na hora de comparação, além disso irá conter uma referência para os filhos. O ponto do nó pode possuir qualquer quantidade de valores, em uma árvore KD de dimensão $k$ apenas os primeiros $k$ valores do ponto serão relevantes."
      ]
    },
    {
      "cell_type": "code",
      "metadata": {
        "id": "pzbQKpNT9GUw"
      },
      "source": [
        "class Node:\n",
        "    \"\"\"Node of KD-Tree, the value k is the dimension of lookup of the node.\"\"\"\n",
        "    def __init__(self, point, k = 0):\n",
        "        self.point = np.array(point)\n",
        "        self.k = k\n",
        "        self.left = None\n",
        "        self.right = None\n",
        "\n",
        "    def __lt__(self, other):\n",
        "        return self.point[0] < other.point[0]"
      ],
      "execution_count": 4,
      "outputs": []
    },
    {
      "cell_type": "markdown",
      "metadata": {
        "id": "OerYdVcPsok_"
      },
      "source": [
        "### 2.3 KD-Tree\n",
        "\n",
        "A estrutura principal, será a árvore KD com funções para inserção de um ponto, inserção de vários pontos balanceados, pesquisa de k vizinhos mais próximos e plot. Todas as funções seguirão uma lógica de recursividade para percorrer a árvore.\n",
        "\n",
        "__Inserção:__ ambas funções assumem que recebem pontos únicos, e iniciam percorrendo a árvore pelo nó raiz. A inserção __balanceada__ utiliza o algoritmo de em cada sub-árvore ordenar os pontos pela dimensão de referência para o nível, e adicionar o ponto mediano no nó.\n",
        "\n",
        "__Pesquisa k vizinhos__: função utiliza a estrutura já definida da fila de prioridade, percorre a árvore buscando pelos vizinhos mais próximos, mas não busca em sub-árvores que a distância seja maior do que a distância obtida pelo $k$-ésimo mais próximo até então, a menos que a fila de prioridade ainda não esteja cheia.\n",
        "\n",
        "__Plot__: função utiliza da biblioteca graphviz para gerar um gráfico representativo da estrutura.\n",
        "\n"
      ]
    },
    {
      "cell_type": "code",
      "metadata": {
        "id": "s3Ebwx0-kdMa"
      },
      "source": [
        "class KDTree:\n",
        "    \"\"\"\n",
        "    Class of KD-Tree with points of dimension equals to [self.dim].\n",
        "    \"\"\"\n",
        "    def __init__(self, dim):\n",
        "        self.dim = dim\n",
        "        self.root = None\n",
        "        self.precision = 10\n",
        "\n",
        "    def plot(self, precision = None):\n",
        "        if precision != None:\n",
        "            self.precision = precision\n",
        "        \"\"\"Plot the tree structure with values.\"\"\"\n",
        "        self.fig = Digraph(node_attr={'shape': 'plaintext'})\n",
        "        self.update_plot()\n",
        "        return self.fig\n",
        "\n",
        "    def update_plot(self, curNode = -1, name = \"\"):\n",
        "        \"\"\"Recursive walk the tree adding new nodes to the graph.\"\"\"\n",
        "        \n",
        "        #If this is the first call of intersetion, start at the root\n",
        "        if curNode == -1:\n",
        "            name = \"r\"\n",
        "            curNode = self.root\n",
        "        \n",
        "        if curNode != None:\n",
        "            self.fig.node(name, str(np.round(curNode.point[:self.dim], self.precision)))\n",
        "            if name != 'r':\n",
        "                self.fig.edge(name[:-1], name)\n",
        "            self.update_plot(curNode.left, name + \"l\")\n",
        "            self.update_plot(curNode.right, name + \"r\")\n",
        "        \n",
        "    def insert(self, point, curNode = -1):\n",
        "        \"\"\"\n",
        "        Recursive insertion function, starts at the root, \n",
        "        walks the structure verifying if what side to follows.\n",
        "        Assumes all points are different.\n",
        "        \"\"\"\n",
        "        #It the tree is empty, create the root node\n",
        "        if self.root == None:\n",
        "            self.root = Node(point, k = 0)\n",
        "            return\n",
        "\n",
        "        #If this is the first call of intersetion, start at the root\n",
        "        if curNode == -1:\n",
        "            curNode = self.root\n",
        "        \n",
        "        k = curNode.k\n",
        "        #New point is on left subtree\n",
        "        if point[k] < curNode.point[k]:\n",
        "            #if child exists, call recursive\n",
        "            if curNode.left != None:\n",
        "                self.insert(point, curNode.left)\n",
        "            #if child don't exists, create child\n",
        "            else:\n",
        "                curNode.left = Node(point, k = (k + 1)%self.dim)\n",
        "        #New point is on right subtree\n",
        "        else:\n",
        "            #if child exists, call recursive\n",
        "            if curNode.right != None:\n",
        "                self.insert(point, curNode.right)\n",
        "            #if child don't exists, create child\n",
        "            else:\n",
        "                curNode.right = Node(point, k = (k + 1)%self.dim)\n",
        "\n",
        "    def insert_many(self, points, curNode = -1, k = None):\n",
        "        \"\"\"\n",
        "        Recursive function to add many points to the tree in a balanced manner.\n",
        "\n",
        "        Inputs:\n",
        "            points - numpy array of size [m, self.dim + q]\n",
        "            curNode - Node to check if will have subtrees\n",
        "            k - int dimension to sort\n",
        "        \"\"\"\n",
        "        m = len(points)\n",
        "        if curNode == -1:\n",
        "            k = 0\n",
        "            points = points[points[:, 0].argsort()] #Sort\n",
        "            self.root = Node(points[m//2, :], k) #Add the middle to the root\n",
        "            curNode = self.root\n",
        "\n",
        "        #Separate in left, right, and sort\n",
        "        k = (k + 1)%self.dim\n",
        "        left_points = points[:m//2, :]\n",
        "        left_points = left_points[left_points[:, k].argsort()]\n",
        "        right_points = points[m//2+1:]\n",
        "        right_points = right_points[right_points[:, k].argsort()]\n",
        "\n",
        "        #Check if there will be a subtree, add the subtree        \n",
        "        if left_points.shape[0] > 0:\n",
        "            curNode.left = Node(left_points[len(left_points)//2, :], k)\n",
        "        if right_points.shape[0] > 0:\n",
        "            curNode.right = Node(right_points[len(right_points)//2, :], k)\n",
        "\n",
        "        #Check if it is necessary to call recursive\n",
        "        if left_points.shape[0] > 1:\n",
        "            self.insert_many(left_points, curNode.left, k)\n",
        "        if right_points.shape[0] > 1:\n",
        "            self.insert_many(right_points, curNode.right, k)\n",
        "\n",
        "\n",
        "    def k_neighbors(self, point, k):\n",
        "        \"\"\"\n",
        "        Search for the [k] closest neighbors of [point] in the tree.\n",
        "        Start the bounded priority queue and call the rescursive search.\n",
        "        \n",
        "        Inputs:\n",
        "            point - numpy array of dim [self.dim + q]\n",
        "            k - int, number of neighbors\n",
        "        \"\"\"\n",
        "        candidates = BoundedQueue(k)\n",
        "        curNode = self.root\n",
        "        self.recursive_search(point, curNode, candidates)\n",
        "        result = candidates.items\n",
        "        #Sort candidates based on distance\n",
        "        result = [(-dist, node.point) for dist, node in result]\n",
        "        result.sort(key = lambda x : x[0])\n",
        "        neighbors = [x[1] for x in result]\n",
        "        dists = [x[0] for x in result]\n",
        "        return neighbors, dists\n",
        "\n",
        "    def recursive_search(self, point, curNode, candidates):\n",
        "        \"\"\"\n",
        "        Recursive function to search for k neighbors.\n",
        "\n",
        "        Inputs:\n",
        "            point - numpy array of dim [self.dim + q]\n",
        "            curNode - Node of current search\n",
        "            candidates - bounded priority queue\n",
        "        \"\"\"\n",
        "        if curNode == None:\n",
        "            return\n",
        "        \n",
        "        dist = np.sqrt(np.square(point[:self.dim] - curNode.point[:self.dim]).sum())\n",
        "        candidates.add(curNode, -dist) \n",
        "\n",
        "        #Decide the side to search\n",
        "        k = curNode.k\n",
        "        search_left = False\n",
        "        if point[k] < curNode.point[k]:\n",
        "            search_left = True\n",
        "            self.recursive_search(point, curNode.left, candidates)\n",
        "        else:\n",
        "            self.recursive_search(point, curNode.right, candidates)\n",
        "\n",
        "        #Follow other side if necessary\n",
        "        if (~(candidates.is_full()) | \n",
        "            (abs(point[k] - curNode.point[k]) <= -candidates.max_priority())):\n",
        "            if search_left:\n",
        "                self.recursive_search(point, curNode.right, candidates)\n",
        "            else:\n",
        "                self.recursive_search(point, curNode.left, candidates)\n"
      ],
      "execution_count": 5,
      "outputs": []
    },
    {
      "cell_type": "markdown",
      "metadata": {
        "id": "uyUnwNQEt8NN"
      },
      "source": [
        "## 3.Problema\n",
        "\n",
        "O problema é composto por diferentes etapas, descrevo agora as funções utilizadas para cada uma delas. \n",
        "\n",
        "Iniciamos com uma função que __gera fazendas aleatórias__ com as características distribuídas dentro dos intervalos definidos, a posição de cada fazenda é a posição de alguma capital brasileira escolhida aleatoriamente."
      ]
    },
    {
      "cell_type": "code",
      "metadata": {
        "id": "6MAWQSAMuNqO"
      },
      "source": [
        "def create_random_farms(n):\n",
        "    coordinates_cities = json.load(open(\"coordinates_cities.json\", 'r'))\n",
        "    coordinates_cities = list(coordinates_cities.values())\n",
        "    #strawberry prod | area | price | longitude | latitude\n",
        "    farms = np.random.uniform(size = (n, 5))\n",
        "    farms[:, 0] = farms[:, 0]*400 + 500\n",
        "    farms[:, 1] = farms[:, 1]*60 + 40\n",
        "    farms[:, 2] = farms[:, 2]*4 + 1\n",
        "    cities = np.random.randint(len(coordinates_cities), size = (n))\n",
        "    farms[:, 3] = [coordinates_cities[x][0] for x in cities]\n",
        "    farms[:, 4] = [coordinates_cities[x][1] for x in cities]\n",
        "    return farms"
      ],
      "execution_count": 6,
      "outputs": []
    },
    {
      "cell_type": "markdown",
      "metadata": {
        "id": "kVlBNL0YuVg1"
      },
      "source": [
        "Em seguida devemos ter uma função que __cria a primeira árvore__, a única operação distinta dessa construção é que ela deve normalizar as características para o intervalo $[0, 1]$ e retorna os limites utilizados para essa normalização (mínimo e máximo de cada atributo antes da normalização)."
      ]
    },
    {
      "cell_type": "code",
      "metadata": {
        "id": "mcHLR0CkunLm"
      },
      "source": [
        "def create_first_tree(farms, balanced = True):\n",
        "    dim = 3\n",
        "    tree = KDTree(dim)\n",
        "    #normalize each column to [0, 1]\n",
        "    farms_normalized = farms.copy()\n",
        "    ranges = [[farms[:, i].min(), farms[:, i].max()] for i in range(3)]\n",
        "    for i in range(3):\n",
        "        farms_normalized[:, i] = (farms[:, i] - ranges[i][0])/(ranges[i][1] - ranges[i][0])\n",
        "    if balanced:\n",
        "        tree.insert_many(farms_normalized)\n",
        "    else:\n",
        "        for i in range(farms.shape[0]):\n",
        "            tree.insert(farms_normalized[i, :])\n",
        "    return tree, ranges"
      ],
      "execution_count": 7,
      "outputs": []
    },
    {
      "cell_type": "markdown",
      "metadata": {
        "id": "9e9SIRD_vPBI"
      },
      "source": [
        "A função para realizar a __primeira pesquisa__ deverá receber a fazenda objetivo, o número de fazendas desejadas para a pesquisa e também precisará dos limites computados pela função anterior para normalizar igualmente a fazenda pesquisada."
      ]
    },
    {
      "cell_type": "code",
      "metadata": {
        "id": "_vJVJyhzvPcO"
      },
      "source": [
        "def search_first_tree(tree, farm, ranges, k):\n",
        "    farm_normalized = farm.copy()\n",
        "    for i in range(3):\n",
        "        farm_normalized[i] = (farm[i] - ranges[i][0])/(ranges[i][1] - ranges[i][0])\n",
        "\n",
        "    neighbors, dists = tree.k_neighbors(farm_normalized, k)\n",
        "    neighbors = np.array(neighbors)\n",
        "    for i in range(3):\n",
        "        neighbors[:, i] =  neighbors[:, i]* (ranges[i][1] - ranges[i][0]) + ranges[i][0]\n",
        "    return neighbors, dists"
      ],
      "execution_count": 8,
      "outputs": []
    },
    {
      "cell_type": "markdown",
      "metadata": {
        "id": "WAIEVRGmusbu"
      },
      "source": [
        "Em sequência, precisamos de uma função que __constrói a segunda árvore__ com o resultado da primeira pesquisa, a operação característica dessa função será que ela irá inverter as ordens das colunas para os primeiros valores das fazendas serem a longitude e a latitude."
      ]
    },
    {
      "cell_type": "code",
      "metadata": {
        "id": "BbnEn2aj7qWJ"
      },
      "source": [
        "def create_second_tree(farms, balanced = True):\n",
        "    dim = 2\n",
        "    tree = KDTree(dim)\n",
        "    farms_inverted = farms.copy()\n",
        "    farms_inverted[:, :2] = farms[:, -2:]\n",
        "    farms_inverted[:, 2:] = farms[:, :3]\n",
        "    if balanced:\n",
        "        tree.insert_many(farms_inverted)\n",
        "    else:\n",
        "        for i in range(farms_inverted.shape[0]):\n",
        "            tree.insert(farms_inverted[i, :])\n",
        "    return tree"
      ],
      "execution_count": 9,
      "outputs": []
    },
    {
      "cell_type": "markdown",
      "metadata": {
        "id": "em4uSRFgvcU2"
      },
      "source": [
        "A função que realiza a __segunda pesquisa__ recebe a fazenda objetivo e inverte a ordem dela para que as primeiras características sejam a longitude e a latitude. Ela não precisa receber o valor $k$ de vizinhos desejados pois esse valor é fixo igual a $2$."
      ]
    },
    {
      "cell_type": "code",
      "metadata": {
        "id": "NRyzu8A5vfyd"
      },
      "source": [
        "def search_second_tree(tree, farm):\n",
        "    farm_inverted = farm.copy()\n",
        "    farm_inverted[:2] = farm[-2:]\n",
        "    farm_inverted[2:] = farm[:3]\n",
        "\n",
        "    neighbors_inverted, dists = tree.k_neighbors(farm, 2) \n",
        "    neighbors_inverted = np.array(neighbors_inverted)\n",
        "\n",
        "    neighbors = neighbors_inverted.copy()\n",
        "    neighbors[:,:3] = neighbors_inverted[:,-3:]\n",
        "    neighbors[:,3:] = neighbors_inverted[:,:2]\n",
        "    return neighbors, dists"
      ],
      "execution_count": 10,
      "outputs": []
    },
    {
      "cell_type": "markdown",
      "metadata": {
        "id": "rEjP0lL2v1PW"
      },
      "source": [
        "Por fim criamos uma rotina que executa todos os passos e exibe os resultados."
      ]
    },
    {
      "cell_type": "code",
      "metadata": {
        "id": "a6Cn3Igwv0c1"
      },
      "source": [
        "def complete_search(farms, farm, k, verbose = True):\n",
        "    first_tree, ranges = create_first_tree(farms)\n",
        "    first_neighbors, first_dists = search_first_tree(first_tree, farm, ranges, k)\n",
        "    if verbose:\n",
        "        print(f\"My objective farm: {farm}\")\n",
        "        print(\"First search:\")\n",
        "        for i in range(len(first_dists)):\n",
        "            print(f\"Dist: {np.round(first_dists[i], 3)}, {first_neighbors[i, :]}\")\n",
        "    second_tree = create_second_tree(first_neighbors)\n",
        "    second_neighbors, second_dists = search_second_tree(second_tree, farm)\n",
        "    if verbose:\n",
        "        print(\"Second search:\")\n",
        "        for i in range(len(second_dists)):\n",
        "            print(f\"Dist: {np.round(second_dists[i], 3)}, {second_neighbors[i, :]}\")"
      ],
      "execution_count": 11,
      "outputs": []
    },
    {
      "cell_type": "markdown",
      "metadata": {
        "id": "KK5OGhDqwbLn"
      },
      "source": [
        "### 3.1 Exemplo\n",
        "\n",
        "Exemplo de pesquisa com 50 fazendas, a fazenda objetivo tem produção de morangos igual a $600$kg, um total de $65$ hectares e um custo de $3$ milhões. As coordenadas são de uma cidade do interior de São Paulo."
      ]
    },
    {
      "cell_type": "code",
      "metadata": {
        "colab": {
          "base_uri": "https://localhost:8080/"
        },
        "id": "85zgqSnsS7Y3",
        "outputId": "2dab56e6-4f09-4270-8525-ca67ae8bcb12"
      },
      "source": [
        "farms = create_random_farms(50)\n",
        "coordinates_my_city = [-47.74361, -23.165]\n",
        "farm = np.array([600, 65, 3, coordinates_my_city[0], coordinates_my_city[1]])\n",
        "complete_search(farms, farm, 5)"
      ],
      "execution_count": 12,
      "outputs": [
        {
          "output_type": "stream",
          "name": "stdout",
          "text": [
            "My objective farm: [600.       65.        3.      -47.74361 -23.165  ]\n",
            "First search:\n",
            "Dist: 0.077, [594.62627514  62.65623306   3.24830423 -38.54305556  -3.71722222]\n",
            "Dist: 0.172, [664.6487523   64.45791633   2.89750795 -54.64638889 -20.44277778]\n",
            "Dist: 0.21, [611.43715404  59.12177897   2.29406672 -54.64638889 -20.44277778]\n",
            "Dist: 0.249, [507.38404523  62.67693635   3.13291372 -67.81        -9.97472222]\n",
            "Dist: 0.254, [612.00617914  58.52478149   3.87871108 -60.025       -3.10194444]\n",
            "Second search:\n",
            "Dist: 642.23, [594.62627514  62.65623306   3.24830423 -38.54305556  -3.71722222]\n",
            "Dist: 660.199, [611.43715404  59.12177897   2.29406672 -54.64638889 -20.44277778]\n"
          ]
        }
      ]
    },
    {
      "cell_type": "markdown",
      "metadata": {
        "id": "Qc9WNqQiwtSl"
      },
      "source": [
        "## 4.Análise complexidade\n",
        "\n",
        "Vamos analisar a complexidade de solução do problema variando o número de fazendas disponíveis para pesquisa e o número de opções que o fazendeiro deseja receber. Iremos computar o tempo para $(50, 100, 500, 1000, 5000, 10000, 50000)$ fazendas disponíveis pesquisando pelas $5$ mais próximas, em sequência, com um total de $1000$ fazendas iremos computar o tempo pela pesquisa das $(5, 10, 20, 30, 40, 50)$ mais próximas."
      ]
    },
    {
      "cell_type": "code",
      "metadata": {
        "id": "YBc0e834e8lm"
      },
      "source": [
        "import time\n",
        "running_times = []\n",
        "n_ = [50, 100, 500, 1000, 5000, 10000, 50000]\n",
        "coordinates_my_city = [-47.74361, -23.165]\n",
        "farm = np.array([600, 65, 3, coordinates_my_city[0], coordinates_my_city[1]])\n",
        "for n in n_:\n",
        "    farms = create_random_farms(n)\n",
        "    start = time.time()\n",
        "    complete_search(farms, farm, 5, False)\n",
        "    running_times.append(1000 *(time.time() - start))\n",
        "\n",
        "n = 1000\n",
        "k_  = [5, 10, 20, 30, 40, 50]\n",
        "running_times_k = []\n",
        "for k in k_:\n",
        "    farms = create_random_farms(n)\n",
        "    start = time.time()\n",
        "    complete_search(farms, farm, k, False)\n",
        "    running_times_k.append(1000 *(time.time() - start))"
      ],
      "execution_count": 13,
      "outputs": []
    },
    {
      "cell_type": "code",
      "metadata": {
        "colab": {
          "base_uri": "https://localhost:8080/",
          "height": 407
        },
        "id": "Hdahx4_xfiMl",
        "outputId": "ea58e0af-4fb0-4c01-f1d2-e837aae68e57"
      },
      "source": [
        "fig, ax = plt.subplots(nrows= 1, ncols = 2, figsize = (12, 6))\n",
        "ax[0].plot(n_, running_times)\n",
        "ax[0].set_title(\"Complexity with increasing trees, k = 5\")\n",
        "ax[0].set_ylabel(\"ms\")\n",
        "ax[0].set_xlabel(\"Number of farms\")\n",
        "\n",
        "ax[1].plot(k_, running_times_k)\n",
        "ax[1].set_title(\"Complexity with increasing searched neighbors, n = 1000\")\n",
        "ax[1].set_ylabel(\"ms\")\n",
        "ax[1].set_xlabel(\"k neighbors\")\n",
        "plt.show()"
      ],
      "execution_count": 15,
      "outputs": [
        {
          "output_type": "display_data",
          "data": {
            "image/png": "[encoded data removed]",
            "text/plain": [
              "<Figure size 864x432 with 2 Axes>"
            ]
          },
          "metadata": {}
        }
      ]
    },
    {
      "cell_type": "markdown",
      "metadata": {
        "id": "I40wQcsxyDW7"
      },
      "source": [
        "## 5.Inserção balanceada\n",
        "\n",
        "Apresento uma pequena comparação da construção de uma árvore balanceada, usando pontos aleatórios de duas dimensões, exibo primeiro a árvore resultado de inserção de pontos com a ordem aleatória e em sequência a mesma construção com algoritmo balanceado."
      ]
    },
    {
      "cell_type": "code",
      "metadata": {
        "colab": {
          "base_uri": "https://localhost:8080/",
          "height": 770
        },
        "id": "uemXSr0okepL",
        "outputId": "ad1ee78a-1c09-4821-edc4-a387390fd728"
      },
      "source": [
        "data = np.random.random((15, 2))\n",
        "tree = KDTree(2)\n",
        "start = time.time()\n",
        "for i in range(15):\n",
        "    tree.insert(data[i, :])\n",
        "print(f\"Simple insertion took: {1000* (time.time() - start):.3f}ms\")\n",
        "tree.plot(3)"
      ],
      "execution_count": 18,
      "outputs": [
        {
          "output_type": "stream",
          "name": "stdout",
          "text": [
            "Simple insertion took: 0.356ms\n"
          ]
        },
        {
          "output_type": "execute_result",
          "data": {
            "text/plain": [
              "<graphviz.dot.Digraph at 0x7eff10f7ff90>"
            ],
            "image/svg+xml": "<?xml version=\"1.0\" encoding=\"UTF-8\" standalone=\"no\"?>\n<!DOCTYPE svg PUBLIC \"-//W3C//DTD SVG 1.1//EN\"\n \"http://www.w3.org/Graphics/SVG/1.1/DTD/svg11.dtd\">\n<!-- Generated by graphviz version 2.40.1 (20161225.0304)\n -->\n<!-- Title: %3 Pages: 1 -->\n<svg width=\"392pt\" height=\"548pt\"\n viewBox=\"0.00 0.00 392.00 548.00\" xmlns=\"http://www.w3.org/2000/svg\" xmlns:xlink=\"http://www.w3.org/1999/xlink\">\n<g id=\"graph0\" class=\"graph\" transform=\"scale(1 1) rotate(0) translate(4 544)\">\n<title>%3</title>\n<polygon fill=\"#ffffff\" stroke=\"transparent\" points=\"-4,4 -4,-544 388,-544 388,4 -4,4\"/>\n<!-- r -->\n<g id=\"node1\" class=\"node\">\n<title>r</title>\n<text text-anchor=\"middle\" x=\"162.5\" y=\"-518.3\" font-family=\"Times,serif\" font-size=\"14.00\" fill=\"#000000\">[0.554 0.528]</text>\n</g>\n<!-- rl -->\n<g id=\"node2\" class=\"node\">\n<title>rl</title>\n<text text-anchor=\"middle\" x=\"105.5\" y=\"-446.3\" font-family=\"Times,serif\" font-size=\"14.00\" fill=\"#000000\">[0.121 0.576]</text>\n</g>\n<!-- r&#45;&gt;rl -->\n<g id=\"edge1\" class=\"edge\">\n<title>r&#45;&gt;rl</title>\n<path fill=\"none\" stroke=\"#000000\" d=\"M148.1165,-503.8314C141.5514,-495.5386 133.6493,-485.557 126.4422,-476.4533\"/>\n<polygon fill=\"#000000\" stroke=\"#000000\" points=\"129.0284,-474.0813 120.0772,-468.4133 123.5401,-478.4262 129.0284,-474.0813\"/>\n</g>\n<!-- rr -->\n<g id=\"node11\" class=\"node\">\n<title>rr</title>\n<text text-anchor=\"middle\" x=\"220.5\" y=\"-446.3\" font-family=\"Times,serif\" font-size=\"14.00\" fill=\"#000000\">[0.968 0.464]</text>\n</g>\n<!-- r&#45;&gt;rr -->\n<g id=\"edge10\" class=\"edge\">\n<title>r&#45;&gt;rr</title>\n<path fill=\"none\" stroke=\"#000000\" d=\"M177.1358,-503.8314C183.8161,-495.5386 191.8568,-485.557 199.1904,-476.4533\"/>\n<polygon fill=\"#000000\" stroke=\"#000000\" points=\"202.1194,-478.3965 205.6671,-468.4133 196.6681,-474.0052 202.1194,-478.3965\"/>\n</g>\n<!-- rll -->\n<g id=\"node3\" class=\"node\">\n<title>rll</title>\n<text text-anchor=\"middle\" x=\"105.5\" y=\"-374.3\" font-family=\"Times,serif\" font-size=\"14.00\" fill=\"#000000\">[0.345 0.353]</text>\n</g>\n<!-- rl&#45;&gt;rll -->\n<g id=\"edge2\" class=\"edge\">\n<title>rl&#45;&gt;rll</title>\n<path fill=\"none\" stroke=\"#000000\" d=\"M105.5,-431.8314C105.5,-424.131 105.5,-414.9743 105.5,-406.4166\"/>\n<polygon fill=\"#000000\" stroke=\"#000000\" points=\"109.0001,-406.4132 105.5,-396.4133 102.0001,-406.4133 109.0001,-406.4132\"/>\n</g>\n<!-- rlll -->\n<g id=\"node4\" class=\"node\">\n<title>rlll</title>\n<text text-anchor=\"middle\" x=\"105.5\" y=\"-302.3\" font-family=\"Times,serif\" font-size=\"14.00\" fill=\"#000000\">[0.345 0.072]</text>\n</g>\n<!-- rll&#45;&gt;rlll -->\n<g id=\"edge3\" class=\"edge\">\n<title>rll&#45;&gt;rlll</title>\n<path fill=\"none\" stroke=\"#000000\" d=\"M105.5,-359.8314C105.5,-352.131 105.5,-342.9743 105.5,-334.4166\"/>\n<polygon fill=\"#000000\" stroke=\"#000000\" points=\"109.0001,-334.4132 105.5,-324.4133 102.0001,-334.4133 109.0001,-334.4132\"/>\n</g>\n<!-- rllll -->\n<g id=\"node5\" class=\"node\">\n<title>rllll</title>\n<text text-anchor=\"middle\" x=\"48.5\" y=\"-230.3\" font-family=\"Times,serif\" font-size=\"14.00\" fill=\"#000000\">[0.296 0.036]</text>\n</g>\n<!-- rlll&#45;&gt;rllll -->\n<g id=\"edge4\" class=\"edge\">\n<title>rlll&#45;&gt;rllll</title>\n<path fill=\"none\" stroke=\"#000000\" d=\"M91.1165,-287.8314C84.5514,-279.5386 76.6493,-269.557 69.4422,-260.4533\"/>\n<polygon fill=\"#000000\" stroke=\"#000000\" points=\"72.0284,-258.0813 63.0772,-252.4133 66.5401,-262.4262 72.0284,-258.0813\"/>\n</g>\n<!-- rlllr -->\n<g id=\"node6\" class=\"node\">\n<title>rlllr</title>\n<text text-anchor=\"middle\" x=\"163.5\" y=\"-230.3\" font-family=\"Times,serif\" font-size=\"14.00\" fill=\"#000000\">[0.236 0.286]</text>\n</g>\n<!-- rlll&#45;&gt;rlllr -->\n<g id=\"edge5\" class=\"edge\">\n<title>rlll&#45;&gt;rlllr</title>\n<path fill=\"none\" stroke=\"#000000\" d=\"M120.1358,-287.8314C126.8161,-279.5386 134.8568,-269.557 142.1904,-260.4533\"/>\n<polygon fill=\"#000000\" stroke=\"#000000\" points=\"145.1194,-262.3965 148.6671,-252.4133 139.6681,-258.0052 145.1194,-262.3965\"/>\n</g>\n<!-- rlllrl -->\n<g id=\"node7\" class=\"node\">\n<title>rlllrl</title>\n<text text-anchor=\"middle\" x=\"105.5\" y=\"-158.3\" font-family=\"Times,serif\" font-size=\"14.00\" fill=\"#000000\">[0.009 0.146]</text>\n</g>\n<!-- rlllr&#45;&gt;rlllrl -->\n<g id=\"edge6\" class=\"edge\">\n<title>rlllr&#45;&gt;rlllrl</title>\n<path fill=\"none\" stroke=\"#000000\" d=\"M148.8642,-215.8314C142.1839,-207.5386 134.1432,-197.557 126.8096,-188.4533\"/>\n<polygon fill=\"#000000\" stroke=\"#000000\" points=\"129.3319,-186.0052 120.3329,-180.4133 123.8806,-190.3965 129.3319,-186.0052\"/>\n</g>\n<!-- rlllrr -->\n<g id=\"node10\" class=\"node\">\n<title>rlllrr</title>\n<text text-anchor=\"middle\" x=\"220.5\" y=\"-158.3\" font-family=\"Times,serif\" font-size=\"14.00\" fill=\"#000000\">[0.309 0.345]</text>\n</g>\n<!-- rlllr&#45;&gt;rlllrr -->\n<g id=\"edge9\" class=\"edge\">\n<title>rlllr&#45;&gt;rlllrr</title>\n<path fill=\"none\" stroke=\"#000000\" d=\"M177.8835,-215.8314C184.4486,-207.5386 192.3507,-197.557 199.5578,-188.4533\"/>\n<polygon fill=\"#000000\" stroke=\"#000000\" points=\"202.4599,-190.4262 205.9228,-180.4133 196.9716,-186.0813 202.4599,-190.4262\"/>\n</g>\n<!-- rlllrlr -->\n<g id=\"node8\" class=\"node\">\n<title>rlllrlr</title>\n<text text-anchor=\"middle\" x=\"105.5\" y=\"-86.3\" font-family=\"Times,serif\" font-size=\"14.00\" fill=\"#000000\">[0.109 0.467]</text>\n</g>\n<!-- rlllrl&#45;&gt;rlllrlr -->\n<g id=\"edge7\" class=\"edge\">\n<title>rlllrl&#45;&gt;rlllrlr</title>\n<path fill=\"none\" stroke=\"#000000\" d=\"M105.5,-143.8314C105.5,-136.131 105.5,-126.9743 105.5,-118.4166\"/>\n<polygon fill=\"#000000\" stroke=\"#000000\" points=\"109.0001,-118.4132 105.5,-108.4133 102.0001,-118.4133 109.0001,-118.4132\"/>\n</g>\n<!-- rlllrlrl -->\n<g id=\"node9\" class=\"node\">\n<title>rlllrlrl</title>\n<text text-anchor=\"middle\" x=\"105.5\" y=\"-14.3\" font-family=\"Times,serif\" font-size=\"14.00\" fill=\"#000000\">[0.073 0.326]</text>\n</g>\n<!-- rlllrlr&#45;&gt;rlllrlrl -->\n<g id=\"edge8\" class=\"edge\">\n<title>rlllrlr&#45;&gt;rlllrlrl</title>\n<path fill=\"none\" stroke=\"#000000\" d=\"M105.5,-71.8314C105.5,-64.131 105.5,-54.9743 105.5,-46.4166\"/>\n<polygon fill=\"#000000\" stroke=\"#000000\" points=\"109.0001,-46.4132 105.5,-36.4133 102.0001,-46.4133 109.0001,-46.4132\"/>\n</g>\n<!-- rrl -->\n<g id=\"node12\" class=\"node\">\n<title>rrl</title>\n<text text-anchor=\"middle\" x=\"220.5\" y=\"-374.3\" font-family=\"Times,serif\" font-size=\"14.00\" fill=\"#000000\">[0.684 0.353]</text>\n</g>\n<!-- rr&#45;&gt;rrl -->\n<g id=\"edge11\" class=\"edge\">\n<title>rr&#45;&gt;rrl</title>\n<path fill=\"none\" stroke=\"#000000\" d=\"M220.5,-431.8314C220.5,-424.131 220.5,-414.9743 220.5,-406.4166\"/>\n<polygon fill=\"#000000\" stroke=\"#000000\" points=\"224.0001,-406.4132 220.5,-396.4133 217.0001,-406.4133 224.0001,-406.4132\"/>\n</g>\n<!-- rrr -->\n<g id=\"node13\" class=\"node\">\n<title>rrr</title>\n<text text-anchor=\"middle\" x=\"335.5\" y=\"-374.3\" font-family=\"Times,serif\" font-size=\"14.00\" fill=\"#000000\">[0.803 0.608]</text>\n</g>\n<!-- rr&#45;&gt;rrr -->\n<g id=\"edge12\" class=\"edge\">\n<title>rr&#45;&gt;rrr</title>\n<path fill=\"none\" stroke=\"#000000\" d=\"M249.5194,-431.8314C264.2286,-422.6221 282.2644,-411.3301 298.0122,-401.4706\"/>\n<polygon fill=\"#000000\" stroke=\"#000000\" points=\"299.8714,-404.436 306.4899,-396.1628 296.1567,-398.5029 299.8714,-404.436\"/>\n</g>\n<!-- rrrr -->\n<g id=\"node14\" class=\"node\">\n<title>rrrr</title>\n<text text-anchor=\"middle\" x=\"335.5\" y=\"-302.3\" font-family=\"Times,serif\" font-size=\"14.00\" fill=\"#000000\">[0.871 0.94 ]</text>\n</g>\n<!-- rrr&#45;&gt;rrrr -->\n<g id=\"edge13\" class=\"edge\">\n<title>rrr&#45;&gt;rrrr</title>\n<path fill=\"none\" stroke=\"#000000\" d=\"M335.5,-359.8314C335.5,-352.131 335.5,-342.9743 335.5,-334.4166\"/>\n<polygon fill=\"#000000\" stroke=\"#000000\" points=\"339.0001,-334.4132 335.5,-324.4133 332.0001,-334.4133 339.0001,-334.4132\"/>\n</g>\n<!-- rrrrl -->\n<g id=\"node15\" class=\"node\">\n<title>rrrrl</title>\n<text text-anchor=\"middle\" x=\"335.5\" y=\"-230.3\" font-family=\"Times,serif\" font-size=\"14.00\" fill=\"#000000\">[0.839 0.685]</text>\n</g>\n<!-- rrrr&#45;&gt;rrrrl -->\n<g id=\"edge14\" class=\"edge\">\n<title>rrrr&#45;&gt;rrrrl</title>\n<path fill=\"none\" stroke=\"#000000\" d=\"M335.5,-287.8314C335.5,-280.131 335.5,-270.9743 335.5,-262.4166\"/>\n<polygon fill=\"#000000\" stroke=\"#000000\" points=\"339.0001,-262.4132 335.5,-252.4133 332.0001,-262.4133 339.0001,-262.4132\"/>\n</g>\n</g>\n</svg>\n"
          },
          "metadata": {},
          "execution_count": 18
        }
      ]
    },
    {
      "cell_type": "code",
      "metadata": {
        "colab": {
          "base_uri": "https://localhost:8080/",
          "height": 385
        },
        "id": "EWz9BfkukoZu",
        "outputId": "b89ec56d-18e6-4f9b-d3fe-bff46a3b7efe"
      },
      "source": [
        "tree = KDTree(2)\n",
        "start = time.time()\n",
        "tree.insert_many(data)\n",
        "print(f\"Balanced insertion took: {1000* (time.time() - start):.3f}ms\")\n",
        "tree.plot(2)"
      ],
      "execution_count": 19,
      "outputs": [
        {
          "output_type": "stream",
          "name": "stdout",
          "text": [
            "Balanced insertion took: 1.456ms\n"
          ]
        },
        {
          "output_type": "execute_result",
          "data": {
            "text/plain": [
              "<graphviz.dot.Digraph at 0x7eff11808850>"
            ],
            "image/svg+xml": "<?xml version=\"1.0\" encoding=\"UTF-8\" standalone=\"no\"?>\n<!DOCTYPE svg PUBLIC \"-//W3C//DTD SVG 1.1//EN\"\n \"http://www.w3.org/Graphics/SVG/1.1/DTD/svg11.dtd\">\n<!-- Generated by graphviz version 2.40.1 (20161225.0304)\n -->\n<!-- Title: %3 Pages: 1 -->\n<svg width=\"782pt\" height=\"260pt\"\n viewBox=\"0.00 0.00 782.00 260.00\" xmlns=\"http://www.w3.org/2000/svg\" xmlns:xlink=\"http://www.w3.org/1999/xlink\">\n<g id=\"graph0\" class=\"graph\" transform=\"scale(1 1) rotate(0) translate(4 256)\">\n<title>%3</title>\n<polygon fill=\"#ffffff\" stroke=\"transparent\" points=\"-4,4 -4,-256 778,-256 778,4 -4,4\"/>\n<!-- r -->\n<g id=\"node1\" class=\"node\">\n<title>r</title>\n<text text-anchor=\"middle\" x=\"387\" y=\"-230.3\" font-family=\"Times,serif\" font-size=\"14.00\" fill=\"#000000\">[0.34 0.07]</text>\n</g>\n<!-- rl -->\n<g id=\"node2\" class=\"node\">\n<title>rl</title>\n<text text-anchor=\"middle\" x=\"288\" y=\"-158.3\" font-family=\"Times,serif\" font-size=\"14.00\" fill=\"#000000\">[0.07 0.33]</text>\n</g>\n<!-- r&#45;&gt;rl -->\n<g id=\"edge1\" class=\"edge\">\n<title>r&#45;&gt;rl</title>\n<path fill=\"none\" stroke=\"#000000\" d=\"M362.0181,-215.8314C349.7072,-206.8779 334.6893,-195.9558 321.4063,-186.2955\"/>\n<polygon fill=\"#000000\" stroke=\"#000000\" points=\"323.1199,-183.214 312.9739,-180.1628 319.0027,-188.8752 323.1199,-183.214\"/>\n</g>\n<!-- rr -->\n<g id=\"node9\" class=\"node\">\n<title>rr</title>\n<text text-anchor=\"middle\" x=\"486\" y=\"-158.3\" font-family=\"Times,serif\" font-size=\"14.00\" fill=\"#000000\">[0.55 0.53]</text>\n</g>\n<!-- r&#45;&gt;rr -->\n<g id=\"edge8\" class=\"edge\">\n<title>r&#45;&gt;rr</title>\n<path fill=\"none\" stroke=\"#000000\" d=\"M411.9819,-215.8314C424.2928,-206.8779 439.3107,-195.9558 452.5937,-186.2955\"/>\n<polygon fill=\"#000000\" stroke=\"#000000\" points=\"454.9973,-188.8752 461.0261,-180.1628 450.8801,-183.214 454.9973,-188.8752\"/>\n</g>\n<!-- rll -->\n<g id=\"node3\" class=\"node\">\n<title>rll</title>\n<text text-anchor=\"middle\" x=\"139\" y=\"-86.3\" font-family=\"Times,serif\" font-size=\"14.00\" fill=\"#000000\">[0.24 0.29]</text>\n</g>\n<!-- rl&#45;&gt;rll -->\n<g id=\"edge2\" class=\"edge\">\n<title>rl&#45;&gt;rll</title>\n<path fill=\"none\" stroke=\"#000000\" d=\"M250.401,-143.8314C230.6503,-134.2874 206.2703,-122.5065 185.3583,-112.4013\"/>\n<polygon fill=\"#000000\" stroke=\"#000000\" points=\"186.8553,-109.2376 176.3286,-108.038 183.8097,-115.5403 186.8553,-109.2376\"/>\n</g>\n<!-- rlr -->\n<g id=\"node6\" class=\"node\">\n<title>rlr</title>\n<text text-anchor=\"middle\" x=\"288\" y=\"-86.3\" font-family=\"Times,serif\" font-size=\"14.00\" fill=\"#000000\">[0.12 0.58]</text>\n</g>\n<!-- rl&#45;&gt;rlr -->\n<g id=\"edge5\" class=\"edge\">\n<title>rl&#45;&gt;rlr</title>\n<path fill=\"none\" stroke=\"#000000\" d=\"M288,-143.8314C288,-136.131 288,-126.9743 288,-118.4166\"/>\n<polygon fill=\"#000000\" stroke=\"#000000\" points=\"291.5001,-118.4132 288,-108.4133 284.5001,-118.4133 291.5001,-118.4132\"/>\n</g>\n<!-- rlll -->\n<g id=\"node4\" class=\"node\">\n<title>rlll</title>\n<text text-anchor=\"middle\" x=\"41\" y=\"-14.3\" font-family=\"Times,serif\" font-size=\"14.00\" fill=\"#000000\">[0.01 0.15]</text>\n</g>\n<!-- rll&#45;&gt;rlll -->\n<g id=\"edge3\" class=\"edge\">\n<title>rll&#45;&gt;rlll</title>\n<path fill=\"none\" stroke=\"#000000\" d=\"M114.2705,-71.8314C102.0838,-62.8779 87.2177,-51.9558 74.0688,-42.2955\"/>\n<polygon fill=\"#000000\" stroke=\"#000000\" points=\"75.8527,-39.263 65.7216,-36.1628 71.7082,-44.9042 75.8527,-39.263\"/>\n</g>\n<!-- rllr -->\n<g id=\"node5\" class=\"node\">\n<title>rllr</title>\n<text text-anchor=\"middle\" x=\"139\" y=\"-14.3\" font-family=\"Times,serif\" font-size=\"14.00\" fill=\"#000000\">[0.3 &#160;0.04]</text>\n</g>\n<!-- rll&#45;&gt;rllr -->\n<g id=\"edge4\" class=\"edge\">\n<title>rll&#45;&gt;rllr</title>\n<path fill=\"none\" stroke=\"#000000\" d=\"M139,-71.8314C139,-64.131 139,-54.9743 139,-46.4166\"/>\n<polygon fill=\"#000000\" stroke=\"#000000\" points=\"142.5001,-46.4132 139,-36.4133 135.5001,-46.4133 142.5001,-46.4132\"/>\n</g>\n<!-- rlrl -->\n<g id=\"node7\" class=\"node\">\n<title>rlrl</title>\n<text text-anchor=\"middle\" x=\"237\" y=\"-14.3\" font-family=\"Times,serif\" font-size=\"14.00\" fill=\"#000000\">[0.11 0.47]</text>\n</g>\n<!-- rlr&#45;&gt;rlrl -->\n<g id=\"edge6\" class=\"edge\">\n<title>rlr&#45;&gt;rlrl</title>\n<path fill=\"none\" stroke=\"#000000\" d=\"M275.1305,-71.8314C269.3165,-63.6232 262.3304,-53.7606 255.9354,-44.7323\"/>\n<polygon fill=\"#000000\" stroke=\"#000000\" points=\"258.679,-42.5505 250.0427,-36.4133 252.9669,-46.5966 258.679,-42.5505\"/>\n</g>\n<!-- rlrr -->\n<g id=\"node8\" class=\"node\">\n<title>rlrr</title>\n<text text-anchor=\"middle\" x=\"337\" y=\"-14.3\" font-family=\"Times,serif\" font-size=\"14.00\" fill=\"#000000\">[0.31 0.34]</text>\n</g>\n<!-- rlr&#45;&gt;rlrr -->\n<g id=\"edge7\" class=\"edge\">\n<title>rlr&#45;&gt;rlrr</title>\n<path fill=\"none\" stroke=\"#000000\" d=\"M300.3648,-71.8314C305.9509,-63.6232 312.663,-53.7606 318.8072,-44.7323\"/>\n<polygon fill=\"#000000\" stroke=\"#000000\" points=\"321.736,-46.6496 324.4687,-36.4133 315.949,-42.7112 321.736,-46.6496\"/>\n</g>\n<!-- rrl -->\n<g id=\"node10\" class=\"node\">\n<title>rrl</title>\n<text text-anchor=\"middle\" x=\"486\" y=\"-86.3\" font-family=\"Times,serif\" font-size=\"14.00\" fill=\"#000000\">[0.68 0.35]</text>\n</g>\n<!-- rr&#45;&gt;rrl -->\n<g id=\"edge9\" class=\"edge\">\n<title>rr&#45;&gt;rrl</title>\n<path fill=\"none\" stroke=\"#000000\" d=\"M486,-143.8314C486,-136.131 486,-126.9743 486,-118.4166\"/>\n<polygon fill=\"#000000\" stroke=\"#000000\" points=\"489.5001,-118.4132 486,-108.4133 482.5001,-118.4133 489.5001,-118.4132\"/>\n</g>\n<!-- rrr -->\n<g id=\"node13\" class=\"node\">\n<title>rrr</title>\n<text text-anchor=\"middle\" x=\"635\" y=\"-86.3\" font-family=\"Times,serif\" font-size=\"14.00\" fill=\"#000000\">[0.84 0.68]</text>\n</g>\n<!-- rr&#45;&gt;rrr -->\n<g id=\"edge12\" class=\"edge\">\n<title>rr&#45;&gt;rrr</title>\n<path fill=\"none\" stroke=\"#000000\" d=\"M523.599,-143.8314C543.3497,-134.2874 567.7297,-122.5065 588.6417,-112.4013\"/>\n<polygon fill=\"#000000\" stroke=\"#000000\" points=\"590.1903,-115.5403 597.6714,-108.038 587.1447,-109.2376 590.1903,-115.5403\"/>\n</g>\n<!-- rrll -->\n<g id=\"node11\" class=\"node\">\n<title>rrll</title>\n<text text-anchor=\"middle\" x=\"437\" y=\"-14.3\" font-family=\"Times,serif\" font-size=\"14.00\" fill=\"#000000\">[0.35 0.35]</text>\n</g>\n<!-- rrl&#45;&gt;rrll -->\n<g id=\"edge10\" class=\"edge\">\n<title>rrl&#45;&gt;rrll</title>\n<path fill=\"none\" stroke=\"#000000\" d=\"M473.6352,-71.8314C468.0491,-63.6232 461.337,-53.7606 455.1928,-44.7323\"/>\n<polygon fill=\"#000000\" stroke=\"#000000\" points=\"458.051,-42.7112 449.5313,-36.4133 452.264,-46.6496 458.051,-42.7112\"/>\n</g>\n<!-- rrlr -->\n<g id=\"node12\" class=\"node\">\n<title>rrlr</title>\n<text text-anchor=\"middle\" x=\"537\" y=\"-14.3\" font-family=\"Times,serif\" font-size=\"14.00\" fill=\"#000000\">[0.97 0.46]</text>\n</g>\n<!-- rrl&#45;&gt;rrlr -->\n<g id=\"edge11\" class=\"edge\">\n<title>rrl&#45;&gt;rrlr</title>\n<path fill=\"none\" stroke=\"#000000\" d=\"M498.8695,-71.8314C504.6835,-63.6232 511.6696,-53.7606 518.0646,-44.7323\"/>\n<polygon fill=\"#000000\" stroke=\"#000000\" points=\"521.0331,-46.5966 523.9573,-36.4133 515.321,-42.5505 521.0331,-46.5966\"/>\n</g>\n<!-- rrrl -->\n<g id=\"node14\" class=\"node\">\n<title>rrrl</title>\n<text text-anchor=\"middle\" x=\"635\" y=\"-14.3\" font-family=\"Times,serif\" font-size=\"14.00\" fill=\"#000000\">[0.8 &#160;0.61]</text>\n</g>\n<!-- rrr&#45;&gt;rrrl -->\n<g id=\"edge13\" class=\"edge\">\n<title>rrr&#45;&gt;rrrl</title>\n<path fill=\"none\" stroke=\"#000000\" d=\"M635,-71.8314C635,-64.131 635,-54.9743 635,-46.4166\"/>\n<polygon fill=\"#000000\" stroke=\"#000000\" points=\"638.5001,-46.4132 635,-36.4133 631.5001,-46.4133 638.5001,-46.4132\"/>\n</g>\n<!-- rrrr -->\n<g id=\"node15\" class=\"node\">\n<title>rrrr</title>\n<text text-anchor=\"middle\" x=\"733\" y=\"-14.3\" font-family=\"Times,serif\" font-size=\"14.00\" fill=\"#000000\">[0.87 0.94]</text>\n</g>\n<!-- rrr&#45;&gt;rrrr -->\n<g id=\"edge14\" class=\"edge\">\n<title>rrr&#45;&gt;rrrr</title>\n<path fill=\"none\" stroke=\"#000000\" d=\"M659.7295,-71.8314C671.9162,-62.8779 686.7823,-51.9558 699.9312,-42.2955\"/>\n<polygon fill=\"#000000\" stroke=\"#000000\" points=\"702.2918,-44.9042 708.2784,-36.1628 698.1473,-39.263 702.2918,-44.9042\"/>\n</g>\n</g>\n</svg>\n"
          },
          "metadata": {},
          "execution_count": 19
        }
      ]
    }
  ]
}