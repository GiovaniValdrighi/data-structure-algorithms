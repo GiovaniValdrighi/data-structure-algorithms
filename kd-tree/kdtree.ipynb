{
  "nbformat": 4,
  "nbformat_minor": 0,
  "metadata": {
    "colab": {
      "name": "kdtree.ipynb",
      "provenance": []
    },
    "kernelspec": {
      "name": "python3",
      "display_name": "Python 3"
    },
    "language_info": {
      "name": "python"
    }
  },
  "cells": [
    {
      "cell_type": "code",
      "metadata": {
        "id": "wNFd_sk6pG2I"
      },
      "source": [
        "#install graphviz\n",
        "!apt install -y graphviz\n",
        "!pip install graphviz"
      ],
      "execution_count": null,
      "outputs": []
    },
    {
      "cell_type": "markdown",
      "metadata": {
        "id": "lXt2V6tWuIRz"
      },
      "source": [
        "# KD-Tree"
      ]
    },
    {
      "cell_type": "code",
      "metadata": {
        "id": "Jf3az-VltrOk"
      },
      "source": [
        "import numpy as np\n",
        "import heapq\n",
        "import matplotlib.pyplot as plt"
      ],
      "execution_count": 146,
      "outputs": []
    },
    {
      "cell_type": "code",
      "metadata": {
        "id": "s3Ebwx0-kdMa"
      },
      "source": [
        "class BoundedQueue:\n",
        "    def __init__(self, max_size):\n",
        "        self.items = []\n",
        "        self.size = 0\n",
        "        self.max_size = max_size\n",
        "    \n",
        "    def add(self, node, dist):\n",
        "        heapq.heappush(self.items, [dist, node])\n",
        "        self.size += 1\n",
        "        \n",
        "        if self.size > self.max_size:\n",
        "            print(\"passed max size, deleted last\")\n",
        "            heapq.heappop(self.items)\n",
        "            self.size -=1\n",
        "\n",
        "        print([t[0] for t in self.items])\n",
        "\n",
        "    def is_full(self):\n",
        "        return self.size == self.max_size\n",
        "\n",
        "    def max_dist(self):\n",
        "        return self.items[-1][0]\n",
        "\n",
        "class Node:\n",
        "    def __init__(self, point, k = 0, info = None):\n",
        "        self.point = np.array(point)\n",
        "        self.info = info\n",
        "        self.k = k\n",
        "        self.left = None\n",
        "        self.right = None\n",
        "\n",
        "class KDTree:\n",
        "    def __init__(self, dim):\n",
        "        self.dim = dim\n",
        "        self.root = None\n",
        "        self.plot = Digraph(node_attr={'shape': 'plaintext'})\n",
        "\n",
        "    def update_plot(self, curNode = -1, name = \"\"):\n",
        "        #If this is the first call of intersetion, start at the root\n",
        "        if curNode == -1:\n",
        "            name = \"r\"\n",
        "            self.plot = Digraph(node_attr={'shape': 'plaintext'})\n",
        "            curNode = self.root\n",
        "        \n",
        "        if curNode != None:\n",
        "            self.plot.node(name, str(curNode.point))\n",
        "            if len(name) > 1:\n",
        "                self.plot.edge(name[:-1], name)\n",
        "            self.update_plot(curNode.left, name + \"l\")\n",
        "            self.update_plot(curNode.right, name + \"r\")\n",
        "        \n",
        "    def insert(self, point, info = {}, curNode = -1):\n",
        "        #It the tree is empty, create the root node\n",
        "        if self.root == None:\n",
        "            self.root = Node(point, k = 0, info = info)\n",
        "            return\n",
        "\n",
        "        #If this is the first call of intersetion, start at the root\n",
        "        if curNode == -1:\n",
        "            curNode = self.root\n",
        "        \n",
        "        k = curNode.k\n",
        "        #New point is on left subtree\n",
        "        if point[k] < curNode.point[k]:\n",
        "            #if child exists, call recursive\n",
        "            if curNode.left != None:\n",
        "                self.insert(point, info, curNode.left)\n",
        "            #if child don't exists, create child\n",
        "            else:\n",
        "                curNode.left = Node(point, k = (k + 1)%self.dim, info = info)\n",
        "        #New point is on right subtree\n",
        "        else:\n",
        "            #if child exists, call recursive\n",
        "            if curNode.right != None:\n",
        "                self.insert(point, info, curNode.right)\n",
        "            #if child don't exists, create child\n",
        "            else:\n",
        "                curNode.right = Node(point, k = (k + 1)%self.dim, info = info)\n",
        "\n",
        "    def k_neighbors(self, point, k):\n",
        "        candidates = BoundedQueue(k)\n",
        "        curNode = self.root\n",
        "        self.recursive_search(point, curNode, candidates)\n",
        "        result = candidates.items.copy()\n",
        "        result = [(1/dist, node) for dist, node in result]\n",
        "        return candidates.items\n",
        "\n",
        "    def recursive_search(self, point, curNode, candidates):\n",
        "        #End of path\n",
        "        if curNode == None:\n",
        "            return\n",
        "        \n",
        "        #Compute distance\n",
        "        dist = np.square(point - curNode.point).sum()\n",
        "        #Add to BPQ\n",
        "        candidates.add(curNode, 1/dist)\n",
        "\n",
        "        k = curNode.k\n",
        "        search_left = False\n",
        "        if point[k] < curNode.point[k]:\n",
        "            search_left = True\n",
        "            self.recursive_search(point, curNode.left, candidates)\n",
        "        else:\n",
        "            self.recursive_search(point, curNode.right, candidates)\n",
        "\n",
        "        if (~(candidates.is_full()) | (abs(point[k] - curNode.point[k]) < candidates.max_dist())):\n",
        "            if search_left:\n",
        "                self.recursive_search(point, curNode.right, candidates)\n",
        "            else:\n",
        "                self.recursive_search(point, curNode.left, candidates)\n"
      ],
      "execution_count": 165,
      "outputs": []
    },
    {
      "cell_type": "code",
      "metadata": {
        "colab": {
          "base_uri": "https://localhost:8080/",
          "height": 964
        },
        "id": "uMHzcxtPkiMr",
        "outputId": "91147dfd-658a-45a9-fb6c-054fe6666cde"
      },
      "source": [
        "tree = KDTree(2)\n",
        "n = 50\n",
        "data = np.random.random(size = (50, 2))\n",
        "for i in range(50):\n",
        "    tree.insert(data[i, :])\n",
        "tree.update_plot()\n",
        "tree.plot\n"
      ],
      "execution_count": 169,
      "outputs": [
        {
          "output_type": "execute_result",
          "data": {
            "text/plain": [
              "<graphviz.dot.Digraph at 0x7f45e7666210>"
            ],
            "image/svg+xml": "<?xml version=\"1.0\" encoding=\"UTF-8\" standalone=\"no\"?>\n<!DOCTYPE svg PUBLIC \"-//W3C//DTD SVG 1.1//EN\"\n \"http://www.w3.org/Graphics/SVG/1.1/DTD/svg11.dtd\">\n<!-- Generated by graphviz version 2.40.1 (20161225.0304)\n -->\n<!-- Title: %3 Pages: 1 -->\n<svg width=\"2068pt\" height=\"692pt\"\n viewBox=\"0.00 0.00 2068.00 692.00\" xmlns=\"http://www.w3.org/2000/svg\" xmlns:xlink=\"http://www.w3.org/1999/xlink\">\n<g id=\"graph0\" class=\"graph\" transform=\"scale(1 1) rotate(0) translate(4 688)\">\n<title>%3</title>\n<polygon fill=\"#ffffff\" stroke=\"transparent\" points=\"-4,4 -4,-688 2064,-688 2064,4 -4,4\"/>\n<!-- r -->\n<g id=\"node1\" class=\"node\">\n<title>r</title>\n<text text-anchor=\"middle\" x=\"1406\" y=\"-662.3\" font-family=\"Times,serif\" font-size=\"14.00\" fill=\"#000000\">[0.64410866 0.0403479 ]</text>\n</g>\n<!-- rl -->\n<g id=\"node2\" class=\"node\">\n<title>rl</title>\n<text text-anchor=\"middle\" x=\"1122\" y=\"-590.3\" font-family=\"Times,serif\" font-size=\"14.00\" fill=\"#000000\">[0.16311812 0.3571596 ]</text>\n</g>\n<!-- r&#45;&gt;rl -->\n<g id=\"edge1\" class=\"edge\">\n<title>r&#45;&gt;rl</title>\n<path fill=\"none\" stroke=\"#000000\" d=\"M1334.7014,-647.9243C1294.6953,-637.7819 1244.6373,-625.0912 1203.135,-614.5694\"/>\n<polygon fill=\"#000000\" stroke=\"#000000\" points=\"1203.8814,-611.148 1193.3279,-612.0831 1202.1612,-617.9334 1203.8814,-611.148\"/>\n</g>\n<!-- rr -->\n<g id=\"node41\" class=\"node\">\n<title>rr</title>\n<text text-anchor=\"middle\" x=\"1596\" y=\"-590.3\" font-family=\"Times,serif\" font-size=\"14.00\" fill=\"#000000\">[0.79513693 0.36600295]</text>\n</g>\n<!-- r&#45;&gt;rr -->\n<g id=\"edge40\" class=\"edge\">\n<title>r&#45;&gt;rr</title>\n<path fill=\"none\" stroke=\"#000000\" d=\"M1453.945,-647.8314C1479.8082,-638.0306 1511.8962,-625.8709 1539.028,-615.5894\"/>\n<polygon fill=\"#000000\" stroke=\"#000000\" points=\"1540.2889,-618.8545 1548.3997,-612.038 1537.8084,-612.3087 1540.2889,-618.8545\"/>\n</g>\n<!-- rll -->\n<g id=\"node3\" class=\"node\">\n<title>rll</title>\n<text text-anchor=\"middle\" x=\"599\" y=\"-518.3\" font-family=\"Times,serif\" font-size=\"14.00\" fill=\"#000000\">[0.31400636 0.15064436]</text>\n</g>\n<!-- rl&#45;&gt;rll -->\n<g id=\"edge2\" class=\"edge\">\n<title>rl&#45;&gt;rll</title>\n<path fill=\"none\" stroke=\"#000000\" d=\"M1038.2611,-582.4719C944.6598,-569.586 793.36,-548.757 695.0339,-535.2207\"/>\n<polygon fill=\"#000000\" stroke=\"#000000\" points=\"695.4792,-531.7491 685.0953,-533.8525 694.5245,-538.6837 695.4792,-531.7491\"/>\n</g>\n<!-- rlr -->\n<g id=\"node14\" class=\"node\">\n<title>rlr</title>\n<text text-anchor=\"middle\" x=\"1122\" y=\"-518.3\" font-family=\"Times,serif\" font-size=\"14.00\" fill=\"#000000\">[0.28916256 0.86075048]</text>\n</g>\n<!-- rl&#45;&gt;rlr -->\n<g id=\"edge13\" class=\"edge\">\n<title>rl&#45;&gt;rlr</title>\n<path fill=\"none\" stroke=\"#000000\" d=\"M1122,-575.8314C1122,-568.131 1122,-558.9743 1122,-550.4166\"/>\n<polygon fill=\"#000000\" stroke=\"#000000\" points=\"1125.5001,-550.4132 1122,-540.4133 1118.5001,-550.4133 1125.5001,-550.4132\"/>\n</g>\n<!-- rlll -->\n<g id=\"node4\" class=\"node\">\n<title>rlll</title>\n<text text-anchor=\"middle\" x=\"315\" y=\"-446.3\" font-family=\"Times,serif\" font-size=\"14.00\" fill=\"#000000\">[0.2619696 &#160;0.33225321]</text>\n</g>\n<!-- rll&#45;&gt;rlll -->\n<g id=\"edge3\" class=\"edge\">\n<title>rll&#45;&gt;rlll</title>\n<path fill=\"none\" stroke=\"#000000\" d=\"M527.7014,-503.9243C487.6953,-493.7819 437.6373,-481.0912 396.135,-470.5694\"/>\n<polygon fill=\"#000000\" stroke=\"#000000\" points=\"396.8814,-467.148 386.3279,-468.0831 395.1612,-473.9334 396.8814,-467.148\"/>\n</g>\n<!-- rllr -->\n<g id=\"node9\" class=\"node\">\n<title>rllr</title>\n<text text-anchor=\"middle\" x=\"599\" y=\"-446.3\" font-family=\"Times,serif\" font-size=\"14.00\" fill=\"#000000\">[0.40067161 0.23337202]</text>\n</g>\n<!-- rll&#45;&gt;rllr -->\n<g id=\"edge8\" class=\"edge\">\n<title>rll&#45;&gt;rllr</title>\n<path fill=\"none\" stroke=\"#000000\" d=\"M599,-503.8314C599,-496.131 599,-486.9743 599,-478.4166\"/>\n<polygon fill=\"#000000\" stroke=\"#000000\" points=\"602.5001,-478.4132 599,-468.4133 595.5001,-478.4133 602.5001,-478.4132\"/>\n</g>\n<!-- rllll -->\n<g id=\"node5\" class=\"node\">\n<title>rllll</title>\n<text text-anchor=\"middle\" x=\"267\" y=\"-374.3\" font-family=\"Times,serif\" font-size=\"14.00\" fill=\"#000000\">[0.27530379 0.24393574]</text>\n</g>\n<!-- rlll&#45;&gt;rllll -->\n<g id=\"edge4\" class=\"edge\">\n<title>rlll&#45;&gt;rllll</title>\n<path fill=\"none\" stroke=\"#000000\" d=\"M302.8876,-431.8314C297.4719,-423.7079 290.9758,-413.9637 285.0079,-405.0118\"/>\n<polygon fill=\"#000000\" stroke=\"#000000\" points=\"287.7347,-402.7923 279.2755,-396.4133 281.9104,-406.6753 287.7347,-402.7923\"/>\n</g>\n<!-- rlllll -->\n<g id=\"node6\" class=\"node\">\n<title>rlllll</title>\n<text text-anchor=\"middle\" x=\"267\" y=\"-302.3\" font-family=\"Times,serif\" font-size=\"14.00\" fill=\"#000000\">[0.240418 &#160;&#160;0.13693658]</text>\n</g>\n<!-- rllll&#45;&gt;rlllll -->\n<g id=\"edge5\" class=\"edge\">\n<title>rllll&#45;&gt;rlllll</title>\n<path fill=\"none\" stroke=\"#000000\" d=\"M267,-359.8314C267,-352.131 267,-342.9743 267,-334.4166\"/>\n<polygon fill=\"#000000\" stroke=\"#000000\" points=\"270.5001,-334.4132 267,-324.4133 263.5001,-334.4133 270.5001,-334.4132\"/>\n</g>\n<!-- rllllll -->\n<g id=\"node7\" class=\"node\">\n<title>rllllll</title>\n<text text-anchor=\"middle\" x=\"84\" y=\"-230.3\" font-family=\"Times,serif\" font-size=\"14.00\" fill=\"#000000\">[0.20253851 0.0323792 ]</text>\n</g>\n<!-- rlllll&#45;&gt;rllllll -->\n<g id=\"edge6\" class=\"edge\">\n<title>rlllll&#45;&gt;rllllll</title>\n<path fill=\"none\" stroke=\"#000000\" d=\"M220.8214,-287.8314C196.0199,-278.0734 165.275,-265.977 139.2157,-255.7242\"/>\n<polygon fill=\"#000000\" stroke=\"#000000\" points=\"140.4337,-252.4423 129.8466,-252.038 137.8708,-258.9563 140.4337,-252.4423\"/>\n</g>\n<!-- rlllllr -->\n<g id=\"node8\" class=\"node\">\n<title>rlllllr</title>\n<text text-anchor=\"middle\" x=\"270\" y=\"-230.3\" font-family=\"Times,serif\" font-size=\"14.00\" fill=\"#000000\">[0.1397836 &#160;0.21519503]</text>\n</g>\n<!-- rlllll&#45;&gt;rlllllr -->\n<g id=\"edge7\" class=\"edge\">\n<title>rlllll&#45;&gt;rlllllr</title>\n<path fill=\"none\" stroke=\"#000000\" d=\"M267.757,-287.8314C268.0779,-280.131 268.4594,-270.9743 268.816,-262.4166\"/>\n<polygon fill=\"#000000\" stroke=\"#000000\" points=\"272.3133,-262.5503 269.2328,-252.4133 265.3194,-262.2589 272.3133,-262.5503\"/>\n</g>\n<!-- rllrl -->\n<g id=\"node10\" class=\"node\">\n<title>rllrl</title>\n<text text-anchor=\"middle\" x=\"457\" y=\"-374.3\" font-family=\"Times,serif\" font-size=\"14.00\" fill=\"#000000\">[0.50693617 0.01001065]</text>\n</g>\n<!-- rllr&#45;&gt;rllrl -->\n<g id=\"edge9\" class=\"edge\">\n<title>rllr&#45;&gt;rllrl</title>\n<path fill=\"none\" stroke=\"#000000\" d=\"M563.1674,-431.8314C544.5843,-422.4089 521.7011,-410.8062 501.9435,-400.7883\"/>\n<polygon fill=\"#000000\" stroke=\"#000000\" points=\"503.323,-397.5635 492.8211,-396.1628 500.1573,-403.8069 503.323,-397.5635\"/>\n</g>\n<!-- rllrr -->\n<g id=\"node13\" class=\"node\">\n<title>rllrr</title>\n<text text-anchor=\"middle\" x=\"647\" y=\"-374.3\" font-family=\"Times,serif\" font-size=\"14.00\" fill=\"#000000\">[0.52253533 0.32480106]</text>\n</g>\n<!-- rllr&#45;&gt;rllrr -->\n<g id=\"edge12\" class=\"edge\">\n<title>rllr&#45;&gt;rllrr</title>\n<path fill=\"none\" stroke=\"#000000\" d=\"M611.1124,-431.8314C616.5281,-423.7079 623.0242,-413.9637 628.9921,-405.0118\"/>\n<polygon fill=\"#000000\" stroke=\"#000000\" points=\"632.0896,-406.6753 634.7245,-396.4133 626.2653,-402.7923 632.0896,-406.6753\"/>\n</g>\n<!-- rllrll -->\n<g id=\"node11\" class=\"node\">\n<title>rllrll</title>\n<text text-anchor=\"middle\" x=\"457\" y=\"-302.3\" font-family=\"Times,serif\" font-size=\"14.00\" fill=\"#000000\">[0.38966746 0.03377703]</text>\n</g>\n<!-- rllrl&#45;&gt;rllrll -->\n<g id=\"edge10\" class=\"edge\">\n<title>rllrl&#45;&gt;rllrll</title>\n<path fill=\"none\" stroke=\"#000000\" d=\"M457,-359.8314C457,-352.131 457,-342.9743 457,-334.4166\"/>\n<polygon fill=\"#000000\" stroke=\"#000000\" points=\"460.5001,-334.4132 457,-324.4133 453.5001,-334.4133 460.5001,-334.4132\"/>\n</g>\n<!-- rllrllr -->\n<g id=\"node12\" class=\"node\">\n<title>rllrllr</title>\n<text text-anchor=\"middle\" x=\"457\" y=\"-230.3\" font-family=\"Times,serif\" font-size=\"14.00\" fill=\"#000000\">[0.38124128 0.042583 &#160;]</text>\n</g>\n<!-- rllrll&#45;&gt;rllrllr -->\n<g id=\"edge11\" class=\"edge\">\n<title>rllrll&#45;&gt;rllrllr</title>\n<path fill=\"none\" stroke=\"#000000\" d=\"M457,-287.8314C457,-280.131 457,-270.9743 457,-262.4166\"/>\n<polygon fill=\"#000000\" stroke=\"#000000\" points=\"460.5001,-262.4132 457,-252.4133 453.5001,-262.4133 460.5001,-262.4132\"/>\n</g>\n<!-- rlrl -->\n<g id=\"node15\" class=\"node\">\n<title>rlrl</title>\n<text text-anchor=\"middle\" x=\"1027\" y=\"-446.3\" font-family=\"Times,serif\" font-size=\"14.00\" fill=\"#000000\">[0.10943237 0.95697917]</text>\n</g>\n<!-- rlr&#45;&gt;rlrl -->\n<g id=\"edge14\" class=\"edge\">\n<title>rlr&#45;&gt;rlrl</title>\n<path fill=\"none\" stroke=\"#000000\" d=\"M1098.0275,-503.8314C1086.2139,-494.8779 1071.8028,-483.9558 1059.0565,-474.2955\"/>\n<polygon fill=\"#000000\" stroke=\"#000000\" points=\"1061.0486,-471.4137 1050.9648,-468.1628 1056.8205,-476.9925 1061.0486,-471.4137\"/>\n</g>\n<!-- rlrr -->\n<g id=\"node26\" class=\"node\">\n<title>rlrr</title>\n<text text-anchor=\"middle\" x=\"1217\" y=\"-446.3\" font-family=\"Times,serif\" font-size=\"14.00\" fill=\"#000000\">[0.61562987 0.85685572]</text>\n</g>\n<!-- rlr&#45;&gt;rlrr -->\n<g id=\"edge25\" class=\"edge\">\n<title>rlr&#45;&gt;rlrr</title>\n<path fill=\"none\" stroke=\"#000000\" d=\"M1145.9725,-503.8314C1157.7861,-494.8779 1172.1972,-483.9558 1184.9435,-474.2955\"/>\n<polygon fill=\"#000000\" stroke=\"#000000\" points=\"1187.1795,-476.9925 1193.0352,-468.1628 1182.9514,-471.4137 1187.1795,-476.9925\"/>\n</g>\n<!-- rlrll -->\n<g id=\"node16\" class=\"node\">\n<title>rlrll</title>\n<text text-anchor=\"middle\" x=\"837\" y=\"-374.3\" font-family=\"Times,serif\" font-size=\"14.00\" fill=\"#000000\">[0.27097869 0.70638616]</text>\n</g>\n<!-- rlrl&#45;&gt;rlrll -->\n<g id=\"edge15\" class=\"edge\">\n<title>rlrl&#45;&gt;rlrll</title>\n<path fill=\"none\" stroke=\"#000000\" d=\"M979.055,-431.8314C953.1918,-422.0306 921.1038,-409.8709 893.972,-399.5894\"/>\n<polygon fill=\"#000000\" stroke=\"#000000\" points=\"895.1916,-396.3087 884.6003,-396.038 892.7111,-402.8545 895.1916,-396.3087\"/>\n</g>\n<!-- rlrlr -->\n<g id=\"node25\" class=\"node\">\n<title>rlrlr</title>\n<text text-anchor=\"middle\" x=\"1027\" y=\"-374.3\" font-family=\"Times,serif\" font-size=\"14.00\" fill=\"#000000\">[0.06550805 0.99163652]</text>\n</g>\n<!-- rlrl&#45;&gt;rlrlr -->\n<g id=\"edge24\" class=\"edge\">\n<title>rlrl&#45;&gt;rlrlr</title>\n<path fill=\"none\" stroke=\"#000000\" d=\"M1027,-431.8314C1027,-424.131 1027,-414.9743 1027,-406.4166\"/>\n<polygon fill=\"#000000\" stroke=\"#000000\" points=\"1030.5001,-406.4132 1027,-396.4133 1023.5001,-406.4133 1030.5001,-406.4132\"/>\n</g>\n<!-- rlrlll -->\n<g id=\"node17\" class=\"node\">\n<title>rlrlll</title>\n<text text-anchor=\"middle\" x=\"837\" y=\"-302.3\" font-family=\"Times,serif\" font-size=\"14.00\" fill=\"#000000\">[0.09416896 0.39214538]</text>\n</g>\n<!-- rlrll&#45;&gt;rlrlll -->\n<g id=\"edge16\" class=\"edge\">\n<title>rlrll&#45;&gt;rlrlll</title>\n<path fill=\"none\" stroke=\"#000000\" d=\"M837,-359.8314C837,-352.131 837,-342.9743 837,-334.4166\"/>\n<polygon fill=\"#000000\" stroke=\"#000000\" points=\"840.5001,-334.4132 837,-324.4133 833.5001,-334.4133 840.5001,-334.4132\"/>\n</g>\n<!-- rlrlllr -->\n<g id=\"node18\" class=\"node\">\n<title>rlrlllr</title>\n<text text-anchor=\"middle\" x=\"837\" y=\"-230.3\" font-family=\"Times,serif\" font-size=\"14.00\" fill=\"#000000\">[0.20360177 0.65773779]</text>\n</g>\n<!-- rlrlll&#45;&gt;rlrlllr -->\n<g id=\"edge17\" class=\"edge\">\n<title>rlrlll&#45;&gt;rlrlllr</title>\n<path fill=\"none\" stroke=\"#000000\" d=\"M837,-287.8314C837,-280.131 837,-270.9743 837,-262.4166\"/>\n<polygon fill=\"#000000\" stroke=\"#000000\" points=\"840.5001,-262.4132 837,-252.4133 833.5001,-262.4133 840.5001,-262.4132\"/>\n</g>\n<!-- rlrlllrl -->\n<g id=\"node19\" class=\"node\">\n<title>rlrlllrl</title>\n<text text-anchor=\"middle\" x=\"742\" y=\"-158.3\" font-family=\"Times,serif\" font-size=\"14.00\" fill=\"#000000\">[0.15696752 0.58205231]</text>\n</g>\n<!-- rlrlllr&#45;&gt;rlrlllrl -->\n<g id=\"edge18\" class=\"edge\">\n<title>rlrlllr&#45;&gt;rlrlllrl</title>\n<path fill=\"none\" stroke=\"#000000\" d=\"M813.0275,-215.8314C801.2139,-206.8779 786.8028,-195.9558 774.0565,-186.2955\"/>\n<polygon fill=\"#000000\" stroke=\"#000000\" points=\"776.0486,-183.4137 765.9648,-180.1628 771.8205,-188.9925 776.0486,-183.4137\"/>\n</g>\n<!-- rlrlllrr -->\n<g id=\"node22\" class=\"node\">\n<title>rlrlllrr</title>\n<text text-anchor=\"middle\" x=\"932\" y=\"-158.3\" font-family=\"Times,serif\" font-size=\"14.00\" fill=\"#000000\">[0.21837209 0.88241729]</text>\n</g>\n<!-- rlrlllr&#45;&gt;rlrlllrr -->\n<g id=\"edge21\" class=\"edge\">\n<title>rlrlllr&#45;&gt;rlrlllrr</title>\n<path fill=\"none\" stroke=\"#000000\" d=\"M860.9725,-215.8314C872.7861,-206.8779 887.1972,-195.9558 899.9435,-186.2955\"/>\n<polygon fill=\"#000000\" stroke=\"#000000\" points=\"902.1795,-188.9925 908.0352,-180.1628 897.9514,-183.4137 902.1795,-188.9925\"/>\n</g>\n<!-- rlrlllrll -->\n<g id=\"node20\" class=\"node\">\n<title>rlrlllrll</title>\n<text text-anchor=\"middle\" x=\"552\" y=\"-86.3\" font-family=\"Times,serif\" font-size=\"14.00\" fill=\"#000000\">[0.10055404 0.52471875]</text>\n</g>\n<!-- rlrlllrl&#45;&gt;rlrlllrll -->\n<g id=\"edge19\" class=\"edge\">\n<title>rlrlllrl&#45;&gt;rlrlllrll</title>\n<path fill=\"none\" stroke=\"#000000\" d=\"M694.055,-143.8314C668.1918,-134.0306 636.1038,-121.8709 608.972,-111.5894\"/>\n<polygon fill=\"#000000\" stroke=\"#000000\" points=\"610.1916,-108.3087 599.6003,-108.038 607.7111,-114.8545 610.1916,-108.3087\"/>\n</g>\n<!-- rlrlllrlr -->\n<g id=\"node21\" class=\"node\">\n<title>rlrlllrlr</title>\n<text text-anchor=\"middle\" x=\"742\" y=\"-86.3\" font-family=\"Times,serif\" font-size=\"14.00\" fill=\"#000000\">[0.16310543 0.84195342]</text>\n</g>\n<!-- rlrlllrl&#45;&gt;rlrlllrlr -->\n<g id=\"edge20\" class=\"edge\">\n<title>rlrlllrl&#45;&gt;rlrlllrlr</title>\n<path fill=\"none\" stroke=\"#000000\" d=\"M742,-143.8314C742,-136.131 742,-126.9743 742,-118.4166\"/>\n<polygon fill=\"#000000\" stroke=\"#000000\" points=\"745.5001,-118.4132 742,-108.4133 738.5001,-118.4133 745.5001,-118.4132\"/>\n</g>\n<!-- rlrlllrrl -->\n<g id=\"node23\" class=\"node\">\n<title>rlrlllrrl</title>\n<text text-anchor=\"middle\" x=\"932\" y=\"-86.3\" font-family=\"Times,serif\" font-size=\"14.00\" fill=\"#000000\">[0.25163636 0.47103942]</text>\n</g>\n<!-- rlrlllrr&#45;&gt;rlrlllrrl -->\n<g id=\"edge22\" class=\"edge\">\n<title>rlrlllrr&#45;&gt;rlrlllrrl</title>\n<path fill=\"none\" stroke=\"#000000\" d=\"M932,-143.8314C932,-136.131 932,-126.9743 932,-118.4166\"/>\n<polygon fill=\"#000000\" stroke=\"#000000\" points=\"935.5001,-118.4132 932,-108.4133 928.5001,-118.4133 935.5001,-118.4132\"/>\n</g>\n<!-- rlrlllrrll -->\n<g id=\"node24\" class=\"node\">\n<title>rlrlllrrll</title>\n<text text-anchor=\"middle\" x=\"932\" y=\"-14.3\" font-family=\"Times,serif\" font-size=\"14.00\" fill=\"#000000\">[0.21798675 0.48650765]</text>\n</g>\n<!-- rlrlllrrl&#45;&gt;rlrlllrrll -->\n<g id=\"edge23\" class=\"edge\">\n<title>rlrlllrrl&#45;&gt;rlrlllrrll</title>\n<path fill=\"none\" stroke=\"#000000\" d=\"M932,-71.8314C932,-64.131 932,-54.9743 932,-46.4166\"/>\n<polygon fill=\"#000000\" stroke=\"#000000\" points=\"935.5001,-46.4132 932,-36.4133 928.5001,-46.4133 935.5001,-46.4132\"/>\n</g>\n<!-- rlrrl -->\n<g id=\"node27\" class=\"node\">\n<title>rlrrl</title>\n<text text-anchor=\"middle\" x=\"1217\" y=\"-374.3\" font-family=\"Times,serif\" font-size=\"14.00\" fill=\"#000000\">[0.34805615 0.40391092]</text>\n</g>\n<!-- rlrr&#45;&gt;rlrrl -->\n<g id=\"edge26\" class=\"edge\">\n<title>rlrr&#45;&gt;rlrrl</title>\n<path fill=\"none\" stroke=\"#000000\" d=\"M1217,-431.8314C1217,-424.131 1217,-414.9743 1217,-406.4166\"/>\n<polygon fill=\"#000000\" stroke=\"#000000\" points=\"1220.5001,-406.4132 1217,-396.4133 1213.5001,-406.4133 1220.5001,-406.4132\"/>\n</g>\n<!-- rlrrr -->\n<g id=\"node39\" class=\"node\">\n<title>rlrrr</title>\n<text text-anchor=\"middle\" x=\"1407\" y=\"-374.3\" font-family=\"Times,serif\" font-size=\"14.00\" fill=\"#000000\">[0.39238922 0.93008022]</text>\n</g>\n<!-- rlrr&#45;&gt;rlrrr -->\n<g id=\"edge38\" class=\"edge\">\n<title>rlrr&#45;&gt;rlrrr</title>\n<path fill=\"none\" stroke=\"#000000\" d=\"M1264.945,-431.8314C1290.8082,-422.0306 1322.8962,-409.8709 1350.028,-399.5894\"/>\n<polygon fill=\"#000000\" stroke=\"#000000\" points=\"1351.2889,-402.8545 1359.3997,-396.038 1348.8084,-396.3087 1351.2889,-402.8545\"/>\n</g>\n<!-- rlrrll -->\n<g id=\"node28\" class=\"node\">\n<title>rlrrll</title>\n<text text-anchor=\"middle\" x=\"1032\" y=\"-302.3\" font-family=\"Times,serif\" font-size=\"14.00\" fill=\"#000000\">[0.31673164 0.50288 &#160;&#160;]</text>\n</g>\n<!-- rlrrl&#45;&gt;rlrrll -->\n<g id=\"edge27\" class=\"edge\">\n<title>rlrrl&#45;&gt;rlrrll</title>\n<path fill=\"none\" stroke=\"#000000\" d=\"M1170.3167,-359.8314C1145.2441,-350.0734 1114.1633,-337.977 1087.8191,-327.7242\"/>\n<polygon fill=\"#000000\" stroke=\"#000000\" points=\"1088.9362,-324.4033 1078.3476,-324.038 1086.3973,-330.9266 1088.9362,-324.4033\"/>\n</g>\n<!-- rlrrlr -->\n<g id=\"node29\" class=\"node\">\n<title>rlrrlr</title>\n<text text-anchor=\"middle\" x=\"1217\" y=\"-302.3\" font-family=\"Times,serif\" font-size=\"14.00\" fill=\"#000000\">[0.35592075 0.55265765]</text>\n</g>\n<!-- rlrrl&#45;&gt;rlrrlr -->\n<g id=\"edge28\" class=\"edge\">\n<title>rlrrl&#45;&gt;rlrrlr</title>\n<path fill=\"none\" stroke=\"#000000\" d=\"M1217,-359.8314C1217,-352.131 1217,-342.9743 1217,-334.4166\"/>\n<polygon fill=\"#000000\" stroke=\"#000000\" points=\"1220.5001,-334.4132 1217,-324.4133 1213.5001,-334.4133 1220.5001,-334.4132\"/>\n</g>\n<!-- rlrrlrl -->\n<g id=\"node30\" class=\"node\">\n<title>rlrrlrl</title>\n<text text-anchor=\"middle\" x=\"1123\" y=\"-230.3\" font-family=\"Times,serif\" font-size=\"14.00\" fill=\"#000000\">[0.58133534 0.4967586 ]</text>\n</g>\n<!-- rlrrlr&#45;&gt;rlrrlrl -->\n<g id=\"edge29\" class=\"edge\">\n<title>rlrrlr&#45;&gt;rlrrlrl</title>\n<path fill=\"none\" stroke=\"#000000\" d=\"M1193.2798,-287.8314C1181.5906,-278.8779 1167.3312,-267.9558 1154.7191,-258.2955\"/>\n<polygon fill=\"#000000\" stroke=\"#000000\" points=\"1156.7797,-255.4651 1146.7126,-252.1628 1152.5231,-261.0222 1156.7797,-255.4651\"/>\n</g>\n<!-- rlrrlrr -->\n<g id=\"node32\" class=\"node\">\n<title>rlrrlrr</title>\n<text text-anchor=\"middle\" x=\"1312\" y=\"-230.3\" font-family=\"Times,serif\" font-size=\"14.00\" fill=\"#000000\">[0.57715954 0.57348045]</text>\n</g>\n<!-- rlrrlr&#45;&gt;rlrrlrr -->\n<g id=\"edge31\" class=\"edge\">\n<title>rlrrlr&#45;&gt;rlrrlrr</title>\n<path fill=\"none\" stroke=\"#000000\" d=\"M1240.9725,-287.8314C1252.7861,-278.8779 1267.1972,-267.9558 1279.9435,-258.2955\"/>\n<polygon fill=\"#000000\" stroke=\"#000000\" points=\"1282.1795,-260.9925 1288.0352,-252.1628 1277.9514,-255.4137 1282.1795,-260.9925\"/>\n</g>\n<!-- rlrrlrll -->\n<g id=\"node31\" class=\"node\">\n<title>rlrrlrll</title>\n<text text-anchor=\"middle\" x=\"1122\" y=\"-158.3\" font-family=\"Times,serif\" font-size=\"14.00\" fill=\"#000000\">[0.54609382 0.47069014]</text>\n</g>\n<!-- rlrrlrl&#45;&gt;rlrrlrll -->\n<g id=\"edge30\" class=\"edge\">\n<title>rlrrlrl&#45;&gt;rlrrlrll</title>\n<path fill=\"none\" stroke=\"#000000\" d=\"M1122.7477,-215.8314C1122.6407,-208.131 1122.5135,-198.9743 1122.3947,-190.4166\"/>\n<polygon fill=\"#000000\" stroke=\"#000000\" points=\"1125.8944,-190.3637 1122.2557,-180.4133 1118.8951,-190.4609 1125.8944,-190.3637\"/>\n</g>\n<!-- rlrrlrrl -->\n<g id=\"node33\" class=\"node\">\n<title>rlrrlrrl</title>\n<text text-anchor=\"middle\" x=\"1312\" y=\"-158.3\" font-family=\"Times,serif\" font-size=\"14.00\" fill=\"#000000\">[0.43251237 0.59225616]</text>\n</g>\n<!-- rlrrlrr&#45;&gt;rlrrlrrl -->\n<g id=\"edge32\" class=\"edge\">\n<title>rlrrlrr&#45;&gt;rlrrlrrl</title>\n<path fill=\"none\" stroke=\"#000000\" d=\"M1312,-215.8314C1312,-208.131 1312,-198.9743 1312,-190.4166\"/>\n<polygon fill=\"#000000\" stroke=\"#000000\" points=\"1315.5001,-190.4132 1312,-180.4133 1308.5001,-190.4133 1315.5001,-190.4132\"/>\n</g>\n<!-- rlrrlrrr -->\n<g id=\"node36\" class=\"node\">\n<title>rlrrlrrr</title>\n<text text-anchor=\"middle\" x=\"1500\" y=\"-158.3\" font-family=\"Times,serif\" font-size=\"14.00\" fill=\"#000000\">[0.61779254 0.7061906 ]</text>\n</g>\n<!-- rlrrlrr&#45;&gt;rlrrlrrr -->\n<g id=\"edge35\" class=\"edge\">\n<title>rlrrlrr&#45;&gt;rlrrlrrr</title>\n<path fill=\"none\" stroke=\"#000000\" d=\"M1359.4403,-215.8314C1384.9195,-206.0734 1416.5044,-193.977 1443.2757,-183.7242\"/>\n<polygon fill=\"#000000\" stroke=\"#000000\" points=\"1444.814,-186.883 1452.9008,-180.038 1442.3104,-180.346 1444.814,-186.883\"/>\n</g>\n<!-- rlrrlrrlr -->\n<g id=\"node34\" class=\"node\">\n<title>rlrrlrrlr</title>\n<text text-anchor=\"middle\" x=\"1312\" y=\"-86.3\" font-family=\"Times,serif\" font-size=\"14.00\" fill=\"#000000\">[0.49559618 0.65453038]</text>\n</g>\n<!-- rlrrlrrl&#45;&gt;rlrrlrrlr -->\n<g id=\"edge33\" class=\"edge\">\n<title>rlrrlrrl&#45;&gt;rlrrlrrlr</title>\n<path fill=\"none\" stroke=\"#000000\" d=\"M1312,-143.8314C1312,-136.131 1312,-126.9743 1312,-118.4166\"/>\n<polygon fill=\"#000000\" stroke=\"#000000\" points=\"1315.5001,-118.4132 1312,-108.4133 1308.5001,-118.4133 1315.5001,-118.4132\"/>\n</g>\n<!-- rlrrlrrlrr -->\n<g id=\"node35\" class=\"node\">\n<title>rlrrlrrlrr</title>\n<text text-anchor=\"middle\" x=\"1312\" y=\"-14.3\" font-family=\"Times,serif\" font-size=\"14.00\" fill=\"#000000\">[0.51799017 0.65495678]</text>\n</g>\n<!-- rlrrlrrlr&#45;&gt;rlrrlrrlrr -->\n<g id=\"edge34\" class=\"edge\">\n<title>rlrrlrrlr&#45;&gt;rlrrlrrlrr</title>\n<path fill=\"none\" stroke=\"#000000\" d=\"M1312,-71.8314C1312,-64.131 1312,-54.9743 1312,-46.4166\"/>\n<polygon fill=\"#000000\" stroke=\"#000000\" points=\"1315.5001,-46.4132 1312,-36.4133 1308.5001,-46.4133 1315.5001,-46.4132\"/>\n</g>\n<!-- rlrrlrrrl -->\n<g id=\"node37\" class=\"node\">\n<title>rlrrlrrrl</title>\n<text text-anchor=\"middle\" x=\"1500\" y=\"-86.3\" font-family=\"Times,serif\" font-size=\"14.00\" fill=\"#000000\">[0.6201264 &#160;0.55293789]</text>\n</g>\n<!-- rlrrlrrr&#45;&gt;rlrrlrrrl -->\n<g id=\"edge36\" class=\"edge\">\n<title>rlrrlrrr&#45;&gt;rlrrlrrrl</title>\n<path fill=\"none\" stroke=\"#000000\" d=\"M1500,-143.8314C1500,-136.131 1500,-126.9743 1500,-118.4166\"/>\n<polygon fill=\"#000000\" stroke=\"#000000\" points=\"1503.5001,-118.4132 1500,-108.4133 1496.5001,-118.4133 1503.5001,-118.4132\"/>\n</g>\n<!-- rlrrlrrrr -->\n<g id=\"node38\" class=\"node\">\n<title>rlrrlrrrr</title>\n<text text-anchor=\"middle\" x=\"1686\" y=\"-86.3\" font-family=\"Times,serif\" font-size=\"14.00\" fill=\"#000000\">[0.5790789 &#160;0.73445847]</text>\n</g>\n<!-- rlrrlrrr&#45;&gt;rlrrlrrrr -->\n<g id=\"edge37\" class=\"edge\">\n<title>rlrrlrrr&#45;&gt;rlrrlrrrr</title>\n<path fill=\"none\" stroke=\"#000000\" d=\"M1546.9357,-143.8314C1572.1437,-134.0734 1603.3926,-121.977 1629.8791,-111.7242\"/>\n<polygon fill=\"#000000\" stroke=\"#000000\" points=\"1631.3397,-114.912 1639.4019,-108.038 1628.8127,-108.384 1631.3397,-114.912\"/>\n</g>\n<!-- rlrrrr -->\n<g id=\"node40\" class=\"node\">\n<title>rlrrrr</title>\n<text text-anchor=\"middle\" x=\"1407\" y=\"-302.3\" font-family=\"Times,serif\" font-size=\"14.00\" fill=\"#000000\">[0.45371765 0.96152341]</text>\n</g>\n<!-- rlrrr&#45;&gt;rlrrrr -->\n<g id=\"edge39\" class=\"edge\">\n<title>rlrrr&#45;&gt;rlrrrr</title>\n<path fill=\"none\" stroke=\"#000000\" d=\"M1407,-359.8314C1407,-352.131 1407,-342.9743 1407,-334.4166\"/>\n<polygon fill=\"#000000\" stroke=\"#000000\" points=\"1410.5001,-334.4132 1407,-324.4133 1403.5001,-334.4133 1410.5001,-334.4132\"/>\n</g>\n<!-- rrl -->\n<g id=\"node42\" class=\"node\">\n<title>rrl</title>\n<text text-anchor=\"middle\" x=\"1596\" y=\"-518.3\" font-family=\"Times,serif\" font-size=\"14.00\" fill=\"#000000\">[0.75501668 0.20773664]</text>\n</g>\n<!-- rr&#45;&gt;rrl -->\n<g id=\"edge41\" class=\"edge\">\n<title>rr&#45;&gt;rrl</title>\n<path fill=\"none\" stroke=\"#000000\" d=\"M1596,-575.8314C1596,-568.131 1596,-558.9743 1596,-550.4166\"/>\n<polygon fill=\"#000000\" stroke=\"#000000\" points=\"1599.5001,-550.4132 1596,-540.4133 1592.5001,-550.4133 1599.5001,-550.4132\"/>\n</g>\n<!-- rrr -->\n<g id=\"node45\" class=\"node\">\n<title>rrr</title>\n<text text-anchor=\"middle\" x=\"1786\" y=\"-518.3\" font-family=\"Times,serif\" font-size=\"14.00\" fill=\"#000000\">[0.73908138 0.88975302]</text>\n</g>\n<!-- rr&#45;&gt;rrr -->\n<g id=\"edge44\" class=\"edge\">\n<title>rr&#45;&gt;rrr</title>\n<path fill=\"none\" stroke=\"#000000\" d=\"M1643.945,-575.8314C1669.8082,-566.0306 1701.8962,-553.8709 1729.028,-543.5894\"/>\n<polygon fill=\"#000000\" stroke=\"#000000\" points=\"1730.2889,-546.8545 1738.3997,-540.038 1727.8084,-540.3087 1730.2889,-546.8545\"/>\n</g>\n<!-- rrlr -->\n<g id=\"node43\" class=\"node\">\n<title>rrlr</title>\n<text text-anchor=\"middle\" x=\"1596\" y=\"-446.3\" font-family=\"Times,serif\" font-size=\"14.00\" fill=\"#000000\">[0.88294961 0.14119744]</text>\n</g>\n<!-- rrl&#45;&gt;rrlr -->\n<g id=\"edge42\" class=\"edge\">\n<title>rrl&#45;&gt;rrlr</title>\n<path fill=\"none\" stroke=\"#000000\" d=\"M1596,-503.8314C1596,-496.131 1596,-486.9743 1596,-478.4166\"/>\n<polygon fill=\"#000000\" stroke=\"#000000\" points=\"1599.5001,-478.4132 1596,-468.4133 1592.5001,-478.4133 1599.5001,-478.4132\"/>\n</g>\n<!-- rrlrl -->\n<g id=\"node44\" class=\"node\">\n<title>rrlrl</title>\n<text text-anchor=\"middle\" x=\"1597\" y=\"-374.3\" font-family=\"Times,serif\" font-size=\"14.00\" fill=\"#000000\">[0.76912793 0.04212685]</text>\n</g>\n<!-- rrlr&#45;&gt;rrlrl -->\n<g id=\"edge43\" class=\"edge\">\n<title>rrlr&#45;&gt;rrlrl</title>\n<path fill=\"none\" stroke=\"#000000\" d=\"M1596.2523,-431.8314C1596.3593,-424.131 1596.4865,-414.9743 1596.6053,-406.4166\"/>\n<polygon fill=\"#000000\" stroke=\"#000000\" points=\"1600.1049,-406.4609 1596.7443,-396.4133 1593.1056,-406.3637 1600.1049,-406.4609\"/>\n</g>\n<!-- rrrr -->\n<g id=\"node46\" class=\"node\">\n<title>rrrr</title>\n<text text-anchor=\"middle\" x=\"1786\" y=\"-446.3\" font-family=\"Times,serif\" font-size=\"14.00\" fill=\"#000000\">[0.97679921 0.53607719]</text>\n</g>\n<!-- rrr&#45;&gt;rrrr -->\n<g id=\"edge45\" class=\"edge\">\n<title>rrr&#45;&gt;rrrr</title>\n<path fill=\"none\" stroke=\"#000000\" d=\"M1786,-503.8314C1786,-496.131 1786,-486.9743 1786,-478.4166\"/>\n<polygon fill=\"#000000\" stroke=\"#000000\" points=\"1789.5001,-478.4132 1786,-468.4133 1782.5001,-478.4133 1789.5001,-478.4132\"/>\n</g>\n<!-- rrrrl -->\n<g id=\"node47\" class=\"node\">\n<title>rrrrl</title>\n<text text-anchor=\"middle\" x=\"1786\" y=\"-374.3\" font-family=\"Times,serif\" font-size=\"14.00\" fill=\"#000000\">[0.8143927 &#160;0.47835801]</text>\n</g>\n<!-- rrrr&#45;&gt;rrrrl -->\n<g id=\"edge46\" class=\"edge\">\n<title>rrrr&#45;&gt;rrrrl</title>\n<path fill=\"none\" stroke=\"#000000\" d=\"M1786,-431.8314C1786,-424.131 1786,-414.9743 1786,-406.4166\"/>\n<polygon fill=\"#000000\" stroke=\"#000000\" points=\"1789.5001,-406.4132 1786,-396.4133 1782.5001,-406.4133 1789.5001,-406.4132\"/>\n</g>\n<!-- rrrrr -->\n<g id=\"node48\" class=\"node\">\n<title>rrrrr</title>\n<text text-anchor=\"middle\" x=\"1974\" y=\"-374.3\" font-family=\"Times,serif\" font-size=\"14.00\" fill=\"#000000\">[0.85930141 0.62380699]</text>\n</g>\n<!-- rrrr&#45;&gt;rrrrr -->\n<g id=\"edge47\" class=\"edge\">\n<title>rrrr&#45;&gt;rrrrr</title>\n<path fill=\"none\" stroke=\"#000000\" d=\"M1833.4403,-431.8314C1858.9195,-422.0734 1890.5044,-409.977 1917.2757,-399.7242\"/>\n<polygon fill=\"#000000\" stroke=\"#000000\" points=\"1918.814,-402.883 1926.9008,-396.038 1916.3104,-396.346 1918.814,-402.883\"/>\n</g>\n<!-- rrrrrl -->\n<g id=\"node49\" class=\"node\">\n<title>rrrrrl</title>\n<text text-anchor=\"middle\" x=\"1974\" y=\"-302.3\" font-family=\"Times,serif\" font-size=\"14.00\" fill=\"#000000\">[0.80730159 0.57291818]</text>\n</g>\n<!-- rrrrr&#45;&gt;rrrrrl -->\n<g id=\"edge48\" class=\"edge\">\n<title>rrrrr&#45;&gt;rrrrrl</title>\n<path fill=\"none\" stroke=\"#000000\" d=\"M1974,-359.8314C1974,-352.131 1974,-342.9743 1974,-334.4166\"/>\n<polygon fill=\"#000000\" stroke=\"#000000\" points=\"1977.5001,-334.4132 1974,-324.4133 1970.5001,-334.4133 1977.5001,-334.4132\"/>\n</g>\n<!-- rrrrrlr -->\n<g id=\"node50\" class=\"node\">\n<title>rrrrrlr</title>\n<text text-anchor=\"middle\" x=\"1974\" y=\"-230.3\" font-family=\"Times,serif\" font-size=\"14.00\" fill=\"#000000\">[0.81330936 0.98611262]</text>\n</g>\n<!-- rrrrrl&#45;&gt;rrrrrlr -->\n<g id=\"edge49\" class=\"edge\">\n<title>rrrrrl&#45;&gt;rrrrrlr</title>\n<path fill=\"none\" stroke=\"#000000\" d=\"M1974,-287.8314C1974,-280.131 1974,-270.9743 1974,-262.4166\"/>\n<polygon fill=\"#000000\" stroke=\"#000000\" points=\"1977.5001,-262.4132 1974,-252.4133 1970.5001,-262.4133 1977.5001,-262.4132\"/>\n</g>\n</g>\n</svg>\n"
          },
          "metadata": {},
          "execution_count": 169
        }
      ]
    },
    {
      "cell_type": "code",
      "metadata": {
        "colab": {
          "base_uri": "https://localhost:8080/"
        },
        "id": "Xt461JLYu8ET",
        "outputId": "340a9b36-97ab-4b7c-fa2e-2a67ae71143b"
      },
      "source": [
        "k_neighbors = tree.k_neighbors(np.array([0, 0]), 4)\n",
        "k_neighbors = np.array([t[1].point for t in k_neighbors])\n",
        "k_neighbors"
      ],
      "execution_count": 170,
      "outputs": [
        {
          "output_type": "stream",
          "name": "stdout",
          "text": [
            "[2.4009377572217256]\n",
            "[2.4009377572217256, 6.486325123219456]\n",
            "[2.4009377572217256, 6.486325123219456, 8.24445011648572]\n",
            "[2.4009377572217256, 5.585959822339446, 8.24445011648572, 6.486325123219456]\n",
            "passed max size, deleted last\n",
            "[5.585959822339446, 6.486325123219456, 8.24445011648572, 7.391156493966329]\n",
            "passed max size, deleted last\n",
            "[6.486325123219456, 7.391156493966329, 8.24445011648572, 13.062940725470037]\n",
            "passed max size, deleted last\n",
            "[7.391156493966329, 13.062940725470037, 8.24445011648572, 23.769760889266188]\n",
            "passed max size, deleted last\n",
            "[8.24445011648572, 13.062940725470037, 15.186408505651396, 23.769760889266188]\n",
            "passed max size, deleted last\n",
            "[8.24445011648572, 13.062940725470037, 15.186408505651396, 23.769760889266188]\n",
            "passed max size, deleted last\n",
            "[8.24445011648572, 13.062940725470037, 15.186408505651396, 23.769760889266188]\n",
            "passed max size, deleted last\n",
            "[8.24445011648572, 13.062940725470037, 15.186408505651396, 23.769760889266188]\n",
            "passed max size, deleted last\n",
            "[8.24445011648572, 13.062940725470037, 15.186408505651396, 23.769760889266188]\n",
            "passed max size, deleted last\n",
            "[8.24445011648572, 13.062940725470037, 15.186408505651396, 23.769760889266188]\n",
            "passed max size, deleted last\n",
            "[8.24445011648572, 13.062940725470037, 15.186408505651396, 23.769760889266188]\n",
            "passed max size, deleted last\n",
            "[8.24445011648572, 13.062940725470037, 15.186408505651396, 23.769760889266188]\n",
            "passed max size, deleted last\n",
            "[8.24445011648572, 13.062940725470037, 15.186408505651396, 23.769760889266188]\n",
            "passed max size, deleted last\n",
            "[8.24445011648572, 13.062940725470037, 15.186408505651396, 23.769760889266188]\n",
            "passed max size, deleted last\n",
            "[8.24445011648572, 13.062940725470037, 15.186408505651396, 23.769760889266188]\n",
            "passed max size, deleted last\n",
            "[8.24445011648572, 13.062940725470037, 15.186408505651396, 23.769760889266188]\n",
            "passed max size, deleted last\n",
            "[8.24445011648572, 13.062940725470037, 15.186408505651396, 23.769760889266188]\n",
            "passed max size, deleted last\n",
            "[8.24445011648572, 13.062940725470037, 15.186408505651396, 23.769760889266188]\n",
            "passed max size, deleted last\n",
            "[8.24445011648572, 13.062940725470037, 15.186408505651396, 23.769760889266188]\n",
            "passed max size, deleted last\n",
            "[8.24445011648572, 13.062940725470037, 15.186408505651396, 23.769760889266188]\n",
            "passed max size, deleted last\n",
            "[8.24445011648572, 13.062940725470037, 15.186408505651396, 23.769760889266188]\n",
            "passed max size, deleted last\n",
            "[8.24445011648572, 13.062940725470037, 15.186408505651396, 23.769760889266188]\n",
            "passed max size, deleted last\n",
            "[8.24445011648572, 13.062940725470037, 15.186408505651396, 23.769760889266188]\n",
            "passed max size, deleted last\n",
            "[8.24445011648572, 13.062940725470037, 15.186408505651396, 23.769760889266188]\n",
            "passed max size, deleted last\n",
            "[8.24445011648572, 13.062940725470037, 15.186408505651396, 23.769760889266188]\n",
            "passed max size, deleted last\n",
            "[8.24445011648572, 13.062940725470037, 15.186408505651396, 23.769760889266188]\n",
            "passed max size, deleted last\n",
            "[8.24445011648572, 13.062940725470037, 15.186408505651396, 23.769760889266188]\n",
            "passed max size, deleted last\n",
            "[8.24445011648572, 13.062940725470037, 15.186408505651396, 23.769760889266188]\n",
            "passed max size, deleted last\n",
            "[8.24445011648572, 13.062940725470037, 15.186408505651396, 23.769760889266188]\n",
            "passed max size, deleted last\n",
            "[8.24445011648572, 13.062940725470037, 15.186408505651396, 23.769760889266188]\n",
            "passed max size, deleted last\n",
            "[8.24445011648572, 13.062940725470037, 15.186408505651396, 23.769760889266188]\n",
            "passed max size, deleted last\n",
            "[8.24445011648572, 13.062940725470037, 15.186408505651396, 23.769760889266188]\n",
            "passed max size, deleted last\n",
            "[8.24445011648572, 13.062940725470037, 15.186408505651396, 23.769760889266188]\n",
            "passed max size, deleted last\n",
            "[8.24445011648572, 13.062940725470037, 15.186408505651396, 23.769760889266188]\n",
            "passed max size, deleted last\n",
            "[8.24445011648572, 13.062940725470037, 15.186408505651396, 23.769760889266188]\n",
            "passed max size, deleted last\n",
            "[8.24445011648572, 13.062940725470037, 15.186408505651396, 23.769760889266188]\n",
            "passed max size, deleted last\n",
            "[8.24445011648572, 13.062940725470037, 15.186408505651396, 23.769760889266188]\n",
            "passed max size, deleted last\n",
            "[8.24445011648572, 13.062940725470037, 15.186408505651396, 23.769760889266188]\n",
            "passed max size, deleted last\n",
            "[8.24445011648572, 13.062940725470037, 15.186408505651396, 23.769760889266188]\n",
            "passed max size, deleted last\n",
            "[8.24445011648572, 13.062940725470037, 15.186408505651396, 23.769760889266188]\n",
            "passed max size, deleted last\n",
            "[8.24445011648572, 13.062940725470037, 15.186408505651396, 23.769760889266188]\n",
            "passed max size, deleted last\n",
            "[8.24445011648572, 13.062940725470037, 15.186408505651396, 23.769760889266188]\n",
            "passed max size, deleted last\n",
            "[8.24445011648572, 13.062940725470037, 15.186408505651396, 23.769760889266188]\n",
            "passed max size, deleted last\n",
            "[8.24445011648572, 13.062940725470037, 15.186408505651396, 23.769760889266188]\n",
            "passed max size, deleted last\n",
            "[8.24445011648572, 13.062940725470037, 15.186408505651396, 23.769760889266188]\n",
            "passed max size, deleted last\n",
            "[8.24445011648572, 13.062940725470037, 15.186408505651396, 23.769760889266188]\n",
            "passed max size, deleted last\n",
            "[8.24445011648572, 13.062940725470037, 15.186408505651396, 23.769760889266188]\n"
          ]
        },
        {
          "output_type": "execute_result",
          "data": {
            "text/plain": [
              "array([[0.31400636, 0.15064436],\n",
              "       [0.240418  , 0.13693658],\n",
              "       [0.1397836 , 0.21519503],\n",
              "       [0.20253851, 0.0323792 ]])"
            ]
          },
          "metadata": {},
          "execution_count": 170
        }
      ]
    },
    {
      "cell_type": "code",
      "metadata": {
        "colab": {
          "base_uri": "https://localhost:8080/",
          "height": 282
        },
        "id": "n6-wikiVzUxJ",
        "outputId": "e18f2569-5b10-4eb0-c2a3-e763e2b5eaf9"
      },
      "source": [
        "plt.scatter(data[:, 0], data[:, 1])\n",
        "plt.scatter(k_neighbors[:, 0], k_neighbors[:, 1], c = 'red')"
      ],
      "execution_count": 171,
      "outputs": [
        {
          "output_type": "execute_result",
          "data": {
            "text/plain": [
              "<matplotlib.collections.PathCollection at 0x7f45e75c6f90>"
            ]
          },
          "metadata": {},
          "execution_count": 171
        },
        {
          "output_type": "display_data",
          "data": {
            "image/png": "[encoded data removed]",
            "text/plain": [
              "<Figure size 432x288 with 1 Axes>"
            ]
          },
          "metadata": {
            "needs_background": "light"
          }
        }
      ]
    }
  ]
}