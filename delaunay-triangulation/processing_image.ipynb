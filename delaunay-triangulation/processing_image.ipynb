{
 "cells": [
  {
   "cell_type": "code",
   "execution_count": 26,
   "id": "ee42c0b9",
   "metadata": {},
   "outputs": [],
   "source": [
    "import cv2\n",
    "import matplotlib.pyplot as plt\n",
    "import numpy as np"
   ]
  },
  {
   "cell_type": "code",
   "execution_count": 151,
   "id": "3f53ff7c",
   "metadata": {},
   "outputs": [],
   "source": [
    "def create_points(filename, n_points = 100):\n",
    "    \"\"\"\n",
    "    Load image, resize it to have 800 width, use Canny algorithm to get edges\n",
    "    \"\"\"\n",
    "    color_img = cv2.imread('images/' + filename)\n",
    "    filename = filename.split('.')[0]\n",
    "    color_img = np.array(color_img)\n",
    "    img = color_img.copy()\n",
    "    dim = np.array(img.shape)\n",
    "    dim = (dim/dim[0] * 800).astype(np.uint32)\n",
    "    img = cv2.resize(img, (dim[0], dim[1]), interpolation = cv2.INTER_AREA)\n",
    "    img = cv2.cvtColor(img, cv2.COLOR_BGR2GRAY)\n",
    "    img = cv2.GaussianBlur(img, (3,3), 0)\n",
    "    img = cv2.Canny(image=img, threshold1=60, threshold2=100) # Canny Edge Detection\n",
    "    x, y = np.where(img > 0)\n",
    "    n_max_points = x.shape[0]\n",
    "    indices = np.random.choice(list(range(n_max_points)), n_points)\n",
    "    with open('images/' + filename + '_' + str(n_points) + '_points.txt', 'w') as f:\n",
    "        for i in indices:\n",
    "            rgb = color_img[x[i], y[i]]\n",
    "            s = ''\n",
    "            s += str(x[i]) + ' ' + str(y[i]) + ' '\n",
    "            s += str(rgb[0]) + ' ' + str(rgb[1]) + ' ' + str(rgb[2]) + '\\n'\n",
    "            f.write(s)\n",
    "    return"
   ]
  },
  {
   "cell_type": "code",
   "execution_count": 153,
   "id": "3dddc42d",
   "metadata": {},
   "outputs": [],
   "source": [
    "create_points('cat.jpg')\n",
    "create_points('cat.jpg', 1000)\n",
    "create_points('cat.jpg', 10000)"
   ]
  }
 ],
 "metadata": {
  "kernelspec": {
   "display_name": "Python 3",
   "language": "python",
   "name": "python3"
  },
  "language_info": {
   "codemirror_mode": {
    "name": "ipython",
    "version": 3
   },
   "file_extension": ".py",
   "mimetype": "text/x-python",
   "name": "python",
   "nbconvert_exporter": "python",
   "pygments_lexer": "ipython3",
   "version": "3.8.11"
  }
 },
 "nbformat": 4,
 "nbformat_minor": 5
}
