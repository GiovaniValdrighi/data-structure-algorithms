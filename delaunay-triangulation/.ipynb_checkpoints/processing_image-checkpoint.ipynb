{
 "cells": [
  {
   "cell_type": "code",
   "execution_count": 1,
   "id": "ee42c0b9",
   "metadata": {},
   "outputs": [],
   "source": [
    "import cv2\n",
    "import matplotlib.pyplot as plt\n",
    "import numpy as np"
   ]
  },
  {
   "cell_type": "code",
   "execution_count": 15,
   "id": "7555334d",
   "metadata": {},
   "outputs": [],
   "source": [
    "def random_points(filename, n_points):\n",
    "    \"\"\"\n",
    "    Load image, resize it to have 720 width, use Canny algorithm to get edges,\n",
    "    than create a file with n_points random points and 10 points from each edge of the image\n",
    "    saving the coordinates (x, y) and the original colors of the image. \n",
    "    \"\"\"\n",
    "    color_img = cv2.imread('images/' + filename)\n",
    "    filename = filename.split('.')[0]\n",
    "    color_img = np.array(color_img)\n",
    "    img = color_img.copy()\n",
    "    dim = np.array(img.shape)\n",
    "    dim = (dim/dim[0] * 720).astype(np.uint32)\n",
    "    img = cv2.resize(img, (dim[0], dim[1]), interpolation = cv2.INTER_AREA)\n",
    "    img = cv2.cvtColor(img, cv2.COLOR_BGR2GRAY)\n",
    "    x_ind = np.random.choice(list(range(dim[0])), n_points)\n",
    "    y_ind = np.random.choice(list(range(dim[1])), n_points)\n",
    "    with open('images/' + filename + '_' + str(n_points) + '_random_points.txt', 'w') as f:\n",
    "        for i in range(n_points):\n",
    "            x_i = x_ind[i]\n",
    "            y_i = y_ind[i]\n",
    "            rgb = color_img[x_i, y_i]\n",
    "            s = ''\n",
    "            s += str(x_i) + ' ' + str(y_i) + ' '\n",
    "            s += str(rgb[0]) + ' ' + str(rgb[1]) + ' ' + str(rgb[2]) + '\\n'\n",
    "            f.write(s)\n",
    "            \n",
    "    x_ind = np.random.choice(list(range(dim[0])), 10)\n",
    "    y_ind = np.random.choice(list(range(dim[1])), 10)\n",
    "    with open('images/' + filename + '_' + str(n_points) + '_random_points.txt', 'w') as f:\n",
    "        for i in range(10):\n",
    "            for (x_i, y_i) in [(0, y_ind[i]), (dim[0] - 1, y_ind[i]), (x_ind[i], 0), (x_ind[i], dim[1] - 1)]:\n",
    "                rgb = color_img[x_i, y_i]\n",
    "                s = ''\n",
    "                s += str(x_i) + ' ' + str(y_i) + ' '\n",
    "                s += str(rgb[0]) + ' ' + str(rgb[1]) + ' ' + str(rgb[2]) + '\\n'\n",
    "                f.write(s)\n",
    "    return"
   ]
  },
  {
   "cell_type": "code",
   "execution_count": 17,
   "id": "3f53ff7c",
   "metadata": {},
   "outputs": [],
   "source": [
    "def create_points(filename, n_points = 100):\n",
    "    \"\"\"\n",
    "    Load image, resize it to have 720 width, use Canny algorithm to get edges,\n",
    "    than create a file with n_points random points from the edges\n",
    "    saving the coordinates (x, y) and the original colors of the image. \n",
    "    \"\"\"\n",
    "    color_img = cv2.imread('images/' + filename)\n",
    "    filename = filename.split('.')[0]\n",
    "    color_img = np.array(color_img)\n",
    "    img = color_img.copy()\n",
    "    dim = np.array(img.shape)\n",
    "    dim = (dim/dim[0] * 720).astype(np.uint32)\n",
    "    img = cv2.resize(img, (dim[0], dim[1]), interpolation = cv2.INTER_AREA)\n",
    "    img = cv2.cvtColor(img, cv2.COLOR_BGR2GRAY)\n",
    "    img = cv2.GaussianBlur(img, (3,3), 0)\n",
    "    img = cv2.Canny(image=img, threshold1=60, threshold2=100) # Canny Edge Detection\n",
    "    x, y = np.where(img > 0)\n",
    "    n_max_points = x.shape[0]\n",
    "    indices = np.random.choice(list(range(n_max_points)), n_points)\n",
    "    with open('images/' + filename + '_' + str(n_points) + '_points.txt', 'w') as f:\n",
    "        for i in indices:\n",
    "            rgb = color_img[x[i], y[i]]\n",
    "            s = ''\n",
    "            s += str(x[i]) + ' ' + str(y[i]) + ' '\n",
    "            s += str(rgb[0]) + ' ' + str(rgb[1]) + ' ' + str(rgb[2]) + '\\n'\n",
    "            f.write(s)\n",
    "            \n",
    "    x_ind = np.random.choice(list(range(dim[0])), 10)\n",
    "    y_ind = np.random.choice(list(range(dim[1])), 10)\n",
    "    with open('images/' + filename + '_' + str(n_points) + '_points.txt', 'w') as f:\n",
    "        for i in range(10):\n",
    "            for (x_i, y_i) in [(0, y_ind[i]), (dim[0] - 1, y_ind[i]), (x_ind[i], 0), (x_ind[i], dim[1] - 1)]:\n",
    "                rgb = color_img[x_i, y_i]\n",
    "                s = ''\n",
    "                s += str(x_i) + ' ' + str(y_i) + ' '\n",
    "                s += str(rgb[0]) + ' ' + str(rgb[1]) + ' ' + str(rgb[2]) + '\\n'\n",
    "                f.write(s)\n",
    "    return"
   ]
  },
  {
   "cell_type": "code",
   "execution_count": 18,
   "id": "3dddc42d",
   "metadata": {},
   "outputs": [],
   "source": [
    "create_points('cat.jpg')\n",
    "create_points('cat.jpg', 1000)\n",
    "create_points('cat.jpg', 10000)"
   ]
  },
  {
   "cell_type": "code",
   "execution_count": 16,
   "id": "b8bd5183",
   "metadata": {},
   "outputs": [],
   "source": [
    "random_points('cat.jpg', 20)\n",
    "random_points('cat.jpg', 500)\n",
    "random_points('me.jpg', 20)\n",
    "random_points('me.jpg', 500)"
   ]
  }
 ],
 "metadata": {
  "kernelspec": {
   "display_name": "Python 3",
   "language": "python",
   "name": "python3"
  },
  "language_info": {
   "codemirror_mode": {
    "name": "ipython",
    "version": 3
   },
   "file_extension": ".py",
   "mimetype": "text/x-python",
   "name": "python",
   "nbconvert_exporter": "python",
   "pygments_lexer": "ipython3",
   "version": "3.8.11"
  }
 },
 "nbformat": 4,
 "nbformat_minor": 5
}
